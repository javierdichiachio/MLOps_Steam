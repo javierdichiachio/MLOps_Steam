{
 "cells": [
  {
   "cell_type": "markdown",
   "metadata": {},
   "source": [
    "<img src=https://d31uz8lwfmyn8g.cloudfront.net/Assets/logo-henry-white-lg.png><p>"
   ]
  },
  {
   "cell_type": "markdown",
   "metadata": {},
   "source": [
    "# Extracción, Transformación y Carga (ETL)"
   ]
  },
  {
   "cell_type": "markdown",
   "metadata": {},
   "source": [
    "En primer lugar, importamos las librerías necesarias para trabajar en este proyecto:"
   ]
  },
  {
   "cell_type": "code",
   "execution_count": 4,
   "metadata": {},
   "outputs": [],
   "source": [
    "import pandas as pd\n",
    "import numpy as np\n",
    "import ast\n",
    "import warnings\n",
    "warnings.filterwarnings('ignore')\n",
    "import nltk\n",
    "import re"
   ]
  },
  {
   "cell_type": "markdown",
   "metadata": {},
   "source": [
    "Contamos con 3 archivos \"json\" que contienen datos acerca de los juegos de Steam, y los items y reviews de usuarios, por lo que a continuación cargamos los archivos con los que trabajaremos en dataframes de Pandas y analizamos la información que contienen:"
   ]
  },
  {
   "cell_type": "markdown",
   "metadata": {},
   "source": [
    "## Steam Games:"
   ]
  },
  {
   "cell_type": "code",
   "execution_count": 2,
   "metadata": {},
   "outputs": [
    {
     "ename": "NameError",
     "evalue": "name 'pd' is not defined",
     "output_type": "error",
     "traceback": [
      "\u001b[1;31m---------------------------------------------------------------------------\u001b[0m",
      "\u001b[1;31mNameError\u001b[0m                                 Traceback (most recent call last)",
      "\u001b[1;32mc:\\Users\\Javi Dichiachio\\Desktop\\Data Science Henry\\LABS\\PI_01\\ETL.ipynb Cell 7\u001b[0m line \u001b[0;36m1\n\u001b[0;32m      <a href='vscode-notebook-cell:/c%3A/Users/Javi%20Dichiachio/Desktop/Data%20Science%20Henry/LABS/PI_01/ETL.ipynb#W6sZmlsZQ%3D%3D?line=6'>7</a>\u001b[0m         data \u001b[39m=\u001b[39m json\u001b[39m.\u001b[39mloads(line)\n\u001b[0;32m      <a href='vscode-notebook-cell:/c%3A/Users/Javi%20Dichiachio/Desktop/Data%20Science%20Henry/LABS/PI_01/ETL.ipynb#W6sZmlsZQ%3D%3D?line=7'>8</a>\u001b[0m         rows\u001b[39m.\u001b[39mappend(data)\n\u001b[1;32m---> <a href='vscode-notebook-cell:/c%3A/Users/Javi%20Dichiachio/Desktop/Data%20Science%20Henry/LABS/PI_01/ETL.ipynb#W6sZmlsZQ%3D%3D?line=9'>10</a>\u001b[0m df_games \u001b[39m=\u001b[39m pd\u001b[39m.\u001b[39mDataFrame(rows)                       \u001b[39m# se carga la info en un dataframe de Pandas\u001b[39;00m\n\u001b[0;32m     <a href='vscode-notebook-cell:/c%3A/Users/Javi%20Dichiachio/Desktop/Data%20Science%20Henry/LABS/PI_01/ETL.ipynb#W6sZmlsZQ%3D%3D?line=10'>11</a>\u001b[0m df_games\u001b[39m.\u001b[39mhead()\n",
      "\u001b[1;31mNameError\u001b[0m: name 'pd' is not defined"
     ]
    }
   ],
   "source": [
    "# Importamos la librería que nos permitirá cargar la información\n",
    "import json\n",
    "\n",
    "rows = []                                           # se crea una lista vacía que contendra las filas del DF\n",
    "with open(r'Datasets\\output_steam_games.json') as file:       # se carga el archivo original\n",
    "    for line in file:                               # se carga la info iterando linea por linea\n",
    "        data = json.loads(line)\n",
    "        rows.append(data)\n",
    "\n",
    "df_games = pd.DataFrame(rows)                       # se carga la info en un dataframe de Pandas\n",
    "df_games.head()"
   ]
  },
  {
   "cell_type": "code",
   "execution_count": 201,
   "metadata": {},
   "outputs": [
    {
     "data": {
      "text/html": [
       "<div>\n",
       "<style scoped>\n",
       "    .dataframe tbody tr th:only-of-type {\n",
       "        vertical-align: middle;\n",
       "    }\n",
       "\n",
       "    .dataframe tbody tr th {\n",
       "        vertical-align: top;\n",
       "    }\n",
       "\n",
       "    .dataframe thead th {\n",
       "        text-align: right;\n",
       "    }\n",
       "</style>\n",
       "<table border=\"1\" class=\"dataframe\">\n",
       "  <thead>\n",
       "    <tr style=\"text-align: right;\">\n",
       "      <th></th>\n",
       "      <th>publisher</th>\n",
       "      <th>genres</th>\n",
       "      <th>app_name</th>\n",
       "      <th>title</th>\n",
       "      <th>url</th>\n",
       "      <th>release_date</th>\n",
       "      <th>tags</th>\n",
       "      <th>reviews_url</th>\n",
       "      <th>specs</th>\n",
       "      <th>price</th>\n",
       "      <th>early_access</th>\n",
       "      <th>id</th>\n",
       "      <th>developer</th>\n",
       "    </tr>\n",
       "  </thead>\n",
       "  <tbody>\n",
       "    <tr>\n",
       "      <th>120440</th>\n",
       "      <td>Ghost_RUS Games</td>\n",
       "      <td>[Casual, Indie, Simulation, Strategy]</td>\n",
       "      <td>Colony On Mars</td>\n",
       "      <td>Colony On Mars</td>\n",
       "      <td>http://store.steampowered.com/app/773640/Colon...</td>\n",
       "      <td>2018-01-04</td>\n",
       "      <td>[Strategy, Indie, Casual, Simulation]</td>\n",
       "      <td>http://steamcommunity.com/app/773640/reviews/?...</td>\n",
       "      <td>[Single-player, Steam Achievements]</td>\n",
       "      <td>1.99</td>\n",
       "      <td>False</td>\n",
       "      <td>773640</td>\n",
       "      <td>Nikita \"Ghost_RUS\"</td>\n",
       "    </tr>\n",
       "    <tr>\n",
       "      <th>120441</th>\n",
       "      <td>Sacada</td>\n",
       "      <td>[Casual, Indie, Strategy]</td>\n",
       "      <td>LOGistICAL: South Africa</td>\n",
       "      <td>LOGistICAL: South Africa</td>\n",
       "      <td>http://store.steampowered.com/app/733530/LOGis...</td>\n",
       "      <td>2018-01-04</td>\n",
       "      <td>[Strategy, Indie, Casual]</td>\n",
       "      <td>http://steamcommunity.com/app/733530/reviews/?...</td>\n",
       "      <td>[Single-player, Steam Achievements, Steam Clou...</td>\n",
       "      <td>4.99</td>\n",
       "      <td>False</td>\n",
       "      <td>733530</td>\n",
       "      <td>Sacada</td>\n",
       "    </tr>\n",
       "    <tr>\n",
       "      <th>120442</th>\n",
       "      <td>Laush Studio</td>\n",
       "      <td>[Indie, Racing, Simulation]</td>\n",
       "      <td>Russian Roads</td>\n",
       "      <td>Russian Roads</td>\n",
       "      <td>http://store.steampowered.com/app/610660/Russi...</td>\n",
       "      <td>2018-01-04</td>\n",
       "      <td>[Indie, Simulation, Racing]</td>\n",
       "      <td>http://steamcommunity.com/app/610660/reviews/?...</td>\n",
       "      <td>[Single-player, Steam Achievements, Steam Trad...</td>\n",
       "      <td>1.99</td>\n",
       "      <td>False</td>\n",
       "      <td>610660</td>\n",
       "      <td>Laush Dmitriy Sergeevich</td>\n",
       "    </tr>\n",
       "    <tr>\n",
       "      <th>120443</th>\n",
       "      <td>SIXNAILS</td>\n",
       "      <td>[Casual, Indie]</td>\n",
       "      <td>EXIT 2 - Directions</td>\n",
       "      <td>EXIT 2 - Directions</td>\n",
       "      <td>http://store.steampowered.com/app/658870/EXIT_...</td>\n",
       "      <td>2017-09-02</td>\n",
       "      <td>[Indie, Casual, Puzzle, Singleplayer, Atmosphe...</td>\n",
       "      <td>http://steamcommunity.com/app/658870/reviews/?...</td>\n",
       "      <td>[Single-player, Steam Achievements, Steam Cloud]</td>\n",
       "      <td>4.99</td>\n",
       "      <td>False</td>\n",
       "      <td>658870</td>\n",
       "      <td>xropi,stev3ns</td>\n",
       "    </tr>\n",
       "    <tr>\n",
       "      <th>120444</th>\n",
       "      <td>NaN</td>\n",
       "      <td>NaN</td>\n",
       "      <td>Maze Run VR</td>\n",
       "      <td>NaN</td>\n",
       "      <td>http://store.steampowered.com/app/681550/Maze_...</td>\n",
       "      <td>NaN</td>\n",
       "      <td>[Early Access, Adventure, Indie, Action, Simul...</td>\n",
       "      <td>http://steamcommunity.com/app/681550/reviews/?...</td>\n",
       "      <td>[Single-player, Stats, Steam Leaderboards, HTC...</td>\n",
       "      <td>4.99</td>\n",
       "      <td>True</td>\n",
       "      <td>681550</td>\n",
       "      <td>NaN</td>\n",
       "    </tr>\n",
       "  </tbody>\n",
       "</table>\n",
       "</div>"
      ],
      "text/plain": [
       "              publisher                                 genres  \\\n",
       "120440  Ghost_RUS Games  [Casual, Indie, Simulation, Strategy]   \n",
       "120441           Sacada              [Casual, Indie, Strategy]   \n",
       "120442     Laush Studio            [Indie, Racing, Simulation]   \n",
       "120443         SIXNAILS                        [Casual, Indie]   \n",
       "120444              NaN                                    NaN   \n",
       "\n",
       "                        app_name                     title  \\\n",
       "120440            Colony On Mars            Colony On Mars   \n",
       "120441  LOGistICAL: South Africa  LOGistICAL: South Africa   \n",
       "120442             Russian Roads             Russian Roads   \n",
       "120443       EXIT 2 - Directions       EXIT 2 - Directions   \n",
       "120444               Maze Run VR                       NaN   \n",
       "\n",
       "                                                      url release_date  \\\n",
       "120440  http://store.steampowered.com/app/773640/Colon...   2018-01-04   \n",
       "120441  http://store.steampowered.com/app/733530/LOGis...   2018-01-04   \n",
       "120442  http://store.steampowered.com/app/610660/Russi...   2018-01-04   \n",
       "120443  http://store.steampowered.com/app/658870/EXIT_...   2017-09-02   \n",
       "120444  http://store.steampowered.com/app/681550/Maze_...          NaN   \n",
       "\n",
       "                                                     tags  \\\n",
       "120440              [Strategy, Indie, Casual, Simulation]   \n",
       "120441                          [Strategy, Indie, Casual]   \n",
       "120442                        [Indie, Simulation, Racing]   \n",
       "120443  [Indie, Casual, Puzzle, Singleplayer, Atmosphe...   \n",
       "120444  [Early Access, Adventure, Indie, Action, Simul...   \n",
       "\n",
       "                                              reviews_url  \\\n",
       "120440  http://steamcommunity.com/app/773640/reviews/?...   \n",
       "120441  http://steamcommunity.com/app/733530/reviews/?...   \n",
       "120442  http://steamcommunity.com/app/610660/reviews/?...   \n",
       "120443  http://steamcommunity.com/app/658870/reviews/?...   \n",
       "120444  http://steamcommunity.com/app/681550/reviews/?...   \n",
       "\n",
       "                                                    specs price early_access  \\\n",
       "120440                [Single-player, Steam Achievements]  1.99        False   \n",
       "120441  [Single-player, Steam Achievements, Steam Clou...  4.99        False   \n",
       "120442  [Single-player, Steam Achievements, Steam Trad...  1.99        False   \n",
       "120443   [Single-player, Steam Achievements, Steam Cloud]  4.99        False   \n",
       "120444  [Single-player, Stats, Steam Leaderboards, HTC...  4.99         True   \n",
       "\n",
       "            id                 developer  \n",
       "120440  773640        Nikita \"Ghost_RUS\"  \n",
       "120441  733530                    Sacada  \n",
       "120442  610660  Laush Dmitriy Sergeevich  \n",
       "120443  658870             xropi,stev3ns  \n",
       "120444  681550                       NaN  "
      ]
     },
     "execution_count": 201,
     "metadata": {},
     "output_type": "execute_result"
    }
   ],
   "source": [
    "df_games.tail()"
   ]
  },
  {
   "cell_type": "code",
   "execution_count": 292,
   "metadata": {},
   "outputs": [
    {
     "name": "stdout",
     "output_type": "stream",
     "text": [
      "<class 'pandas.core.frame.DataFrame'>\n",
      "RangeIndex: 120445 entries, 0 to 120444\n",
      "Data columns (total 13 columns):\n",
      " #   Column        Non-Null Count  Dtype \n",
      "---  ------        --------------  ----- \n",
      " 0   publisher     24083 non-null  object\n",
      " 1   genres        28852 non-null  object\n",
      " 2   app_name      32133 non-null  object\n",
      " 3   title         30085 non-null  object\n",
      " 4   url           32135 non-null  object\n",
      " 5   release_date  30068 non-null  object\n",
      " 6   tags          31972 non-null  object\n",
      " 7   reviews_url   32133 non-null  object\n",
      " 8   specs         31465 non-null  object\n",
      " 9   price         30758 non-null  object\n",
      " 10  early_access  32135 non-null  object\n",
      " 11  id            32133 non-null  object\n",
      " 12  developer     28836 non-null  object\n",
      "dtypes: object(13)\n",
      "memory usage: 11.9+ MB\n"
     ]
    }
   ],
   "source": [
    "# Se analiza la información del dataset:\n",
    "df_games.info()"
   ]
  },
  {
   "cell_type": "code",
   "execution_count": 293,
   "metadata": {},
   "outputs": [
    {
     "data": {
      "text/plain": [
       "(120445, 13)"
      ]
     },
     "execution_count": 293,
     "metadata": {},
     "output_type": "execute_result"
    }
   ],
   "source": [
    "df_games.shape"
   ]
  },
  {
   "cell_type": "markdown",
   "metadata": {},
   "source": [
    "Como se observa en el apartado anterior, el dataset incluye columnas que no serán necesarias para responder las consultas solicitadas para la API, por lo que se procede a eliminarlas del análisis:"
   ]
  },
  {
   "cell_type": "code",
   "execution_count": 3,
   "metadata": {},
   "outputs": [
    {
     "ename": "NameError",
     "evalue": "name 'df_games' is not defined",
     "output_type": "error",
     "traceback": [
      "\u001b[1;31m---------------------------------------------------------------------------\u001b[0m",
      "\u001b[1;31mNameError\u001b[0m                                 Traceback (most recent call last)",
      "\u001b[1;32mc:\\Users\\Javi Dichiachio\\Desktop\\Data Science Henry\\LABS\\PI_01\\ETL.ipynb Cell 12\u001b[0m line \u001b[0;36m1\n\u001b[1;32m----> <a href='vscode-notebook-cell:/c%3A/Users/Javi%20Dichiachio/Desktop/Data%20Science%20Henry/LABS/PI_01/ETL.ipynb#X13sZmlsZQ%3D%3D?line=0'>1</a>\u001b[0m df_games \u001b[39m=\u001b[39m df_games\u001b[39m.\u001b[39mdrop(columns\u001b[39m=\u001b[39m[\u001b[39m\"\u001b[39m\u001b[39murl\u001b[39m\u001b[39m\"\u001b[39m,\u001b[39m\"\u001b[39m\u001b[39mreviews_url\u001b[39m\u001b[39m\"\u001b[39m, \u001b[39m\"\u001b[39m\u001b[39mearly_access\u001b[39m\u001b[39m\"\u001b[39m])\n",
      "\u001b[1;31mNameError\u001b[0m: name 'df_games' is not defined"
     ]
    }
   ],
   "source": [
    "df_games = df_games.drop(columns=[\"url\",\"reviews_url\", \"early_access\"])"
   ]
  },
  {
   "cell_type": "markdown",
   "metadata": {},
   "source": [
    "Se cuenta la cantidad de valores nulos por columna:"
   ]
  },
  {
   "cell_type": "code",
   "execution_count": 205,
   "metadata": {},
   "outputs": [
    {
     "data": {
      "text/plain": [
       "publisher       96362\n",
       "genres          91593\n",
       "app_name        88312\n",
       "title           90360\n",
       "release_date    90377\n",
       "tags            88473\n",
       "specs           88980\n",
       "price           89687\n",
       "id              88312\n",
       "developer       91609\n",
       "dtype: int64"
      ]
     },
     "execution_count": 205,
     "metadata": {},
     "output_type": "execute_result"
    }
   ],
   "source": [
    "df_games.isnull().sum()"
   ]
  },
  {
   "cell_type": "markdown",
   "metadata": {},
   "source": [
    "Como podemos observar, existen muchas columnas con valores nulos, por lo cual se procede a eliminar los mismos:"
   ]
  },
  {
   "cell_type": "code",
   "execution_count": 328,
   "metadata": {},
   "outputs": [
    {
     "data": {
      "text/plain": [
       "(22530, 10)"
      ]
     },
     "execution_count": 328,
     "metadata": {},
     "output_type": "execute_result"
    }
   ],
   "source": [
    "# Se filtran los valores nulos para el subset de la columna \"id\"\n",
    "#df_games1 = df_games.dropna(subset=\"id\").reset_index(drop=True)\n",
    "df_games1 = df_games.dropna().reset_index(drop=True)\n",
    "df_games1.shape"
   ]
  },
  {
   "cell_type": "markdown",
   "metadata": {},
   "source": [
    "Luego verifico si en la columna \"id\" existen valores duplicados:"
   ]
  },
  {
   "cell_type": "code",
   "execution_count": 207,
   "metadata": {},
   "outputs": [
    {
     "name": "stdout",
     "output_type": "stream",
     "text": [
      "Valores duplicados en Id: 1\n"
     ]
    }
   ],
   "source": [
    "print(\"Valores duplicados en Id:\", df_games1['id'].duplicated().sum())"
   ]
  },
  {
   "cell_type": "code",
   "execution_count": 329,
   "metadata": {},
   "outputs": [],
   "source": [
    "# Se eliminan los valores duplicados\n",
    "df_games1 = df_games1.drop_duplicates(subset=\"id\")"
   ]
  },
  {
   "cell_type": "markdown",
   "metadata": {},
   "source": [
    "Se crea la columna \"release_year\" que permitirá realizar agrupaciones de datos por año de lanzamiento:"
   ]
  },
  {
   "cell_type": "code",
   "execution_count": 330,
   "metadata": {},
   "outputs": [
    {
     "data": {
      "text/html": [
       "<div>\n",
       "<style scoped>\n",
       "    .dataframe tbody tr th:only-of-type {\n",
       "        vertical-align: middle;\n",
       "    }\n",
       "\n",
       "    .dataframe tbody tr th {\n",
       "        vertical-align: top;\n",
       "    }\n",
       "\n",
       "    .dataframe thead th {\n",
       "        text-align: right;\n",
       "    }\n",
       "</style>\n",
       "<table border=\"1\" class=\"dataframe\">\n",
       "  <thead>\n",
       "    <tr style=\"text-align: right;\">\n",
       "      <th></th>\n",
       "      <th>publisher</th>\n",
       "      <th>genres</th>\n",
       "      <th>app_name</th>\n",
       "      <th>title</th>\n",
       "      <th>tags</th>\n",
       "      <th>specs</th>\n",
       "      <th>price</th>\n",
       "      <th>id</th>\n",
       "      <th>developer</th>\n",
       "      <th>release_year</th>\n",
       "    </tr>\n",
       "  </thead>\n",
       "  <tbody>\n",
       "    <tr>\n",
       "      <th>0</th>\n",
       "      <td>Kotoshiro</td>\n",
       "      <td>[Action, Casual, Indie, Simulation, Strategy]</td>\n",
       "      <td>Lost Summoner Kitty</td>\n",
       "      <td>Lost Summoner Kitty</td>\n",
       "      <td>[Strategy, Action, Indie, Casual, Simulation]</td>\n",
       "      <td>[Single-player]</td>\n",
       "      <td>4.99</td>\n",
       "      <td>761140</td>\n",
       "      <td>Kotoshiro</td>\n",
       "      <td>2018</td>\n",
       "    </tr>\n",
       "    <tr>\n",
       "      <th>1</th>\n",
       "      <td>Making Fun, Inc.</td>\n",
       "      <td>[Free to Play, Indie, RPG, Strategy]</td>\n",
       "      <td>Ironbound</td>\n",
       "      <td>Ironbound</td>\n",
       "      <td>[Free to Play, Strategy, Indie, RPG, Card Game...</td>\n",
       "      <td>[Single-player, Multi-player, Online Multi-Pla...</td>\n",
       "      <td>Free To Play</td>\n",
       "      <td>643980</td>\n",
       "      <td>Secret Level SRL</td>\n",
       "      <td>2018</td>\n",
       "    </tr>\n",
       "    <tr>\n",
       "      <th>2</th>\n",
       "      <td>Poolians.com</td>\n",
       "      <td>[Casual, Free to Play, Indie, Simulation, Sports]</td>\n",
       "      <td>Real Pool 3D - Poolians</td>\n",
       "      <td>Real Pool 3D - Poolians</td>\n",
       "      <td>[Free to Play, Simulation, Sports, Casual, Ind...</td>\n",
       "      <td>[Single-player, Multi-player, Online Multi-Pla...</td>\n",
       "      <td>Free to Play</td>\n",
       "      <td>670290</td>\n",
       "      <td>Poolians.com</td>\n",
       "      <td>2017</td>\n",
       "    </tr>\n",
       "    <tr>\n",
       "      <th>3</th>\n",
       "      <td>彼岸领域</td>\n",
       "      <td>[Action, Adventure, Casual]</td>\n",
       "      <td>弹炸人2222</td>\n",
       "      <td>弹炸人2222</td>\n",
       "      <td>[Action, Adventure, Casual]</td>\n",
       "      <td>[Single-player]</td>\n",
       "      <td>0.99</td>\n",
       "      <td>767400</td>\n",
       "      <td>彼岸领域</td>\n",
       "      <td>2017</td>\n",
       "    </tr>\n",
       "    <tr>\n",
       "      <th>4</th>\n",
       "      <td>Trickjump Games Ltd</td>\n",
       "      <td>[Action, Adventure, Simulation]</td>\n",
       "      <td>Battle Royale Trainer</td>\n",
       "      <td>Battle Royale Trainer</td>\n",
       "      <td>[Action, Adventure, Simulation, FPS, Shooter, ...</td>\n",
       "      <td>[Single-player, Steam Achievements]</td>\n",
       "      <td>3.99</td>\n",
       "      <td>772540</td>\n",
       "      <td>Trickjump Games Ltd</td>\n",
       "      <td>2018</td>\n",
       "    </tr>\n",
       "  </tbody>\n",
       "</table>\n",
       "</div>"
      ],
      "text/plain": [
       "             publisher                                             genres  \\\n",
       "0            Kotoshiro      [Action, Casual, Indie, Simulation, Strategy]   \n",
       "1     Making Fun, Inc.               [Free to Play, Indie, RPG, Strategy]   \n",
       "2         Poolians.com  [Casual, Free to Play, Indie, Simulation, Sports]   \n",
       "3                 彼岸领域                        [Action, Adventure, Casual]   \n",
       "4  Trickjump Games Ltd                    [Action, Adventure, Simulation]   \n",
       "\n",
       "                  app_name                    title  \\\n",
       "0      Lost Summoner Kitty      Lost Summoner Kitty   \n",
       "1                Ironbound                Ironbound   \n",
       "2  Real Pool 3D - Poolians  Real Pool 3D - Poolians   \n",
       "3                  弹炸人2222                  弹炸人2222   \n",
       "4    Battle Royale Trainer    Battle Royale Trainer   \n",
       "\n",
       "                                                tags  \\\n",
       "0      [Strategy, Action, Indie, Casual, Simulation]   \n",
       "1  [Free to Play, Strategy, Indie, RPG, Card Game...   \n",
       "2  [Free to Play, Simulation, Sports, Casual, Ind...   \n",
       "3                        [Action, Adventure, Casual]   \n",
       "4  [Action, Adventure, Simulation, FPS, Shooter, ...   \n",
       "\n",
       "                                               specs         price      id  \\\n",
       "0                                    [Single-player]          4.99  761140   \n",
       "1  [Single-player, Multi-player, Online Multi-Pla...  Free To Play  643980   \n",
       "2  [Single-player, Multi-player, Online Multi-Pla...  Free to Play  670290   \n",
       "3                                    [Single-player]          0.99  767400   \n",
       "4                [Single-player, Steam Achievements]          3.99  772540   \n",
       "\n",
       "             developer release_year  \n",
       "0            Kotoshiro         2018  \n",
       "1     Secret Level SRL         2018  \n",
       "2         Poolians.com         2017  \n",
       "3                 彼岸领域         2017  \n",
       "4  Trickjump Games Ltd         2018  "
      ]
     },
     "execution_count": 330,
     "metadata": {},
     "output_type": "execute_result"
    }
   ],
   "source": [
    "# Se extrae el año en una nueva columna llamada \"release_year\" a traves del uso de expresiones regulares:\n",
    "df_games1['release_year'] = df_games1['release_date'].str.extract(r'(\\d{4})')\n",
    "\n",
    "# Se elimina la columna original\n",
    "df_games1 = df_games1.drop(columns=\"release_date\")\n",
    "df_games1.head()\n"
   ]
  },
  {
   "cell_type": "markdown",
   "metadata": {},
   "source": [
    "Por otro lado, se observa que la columna \"price\" tiene valores tipo \"float\" para aquellos juegos con precio, y tipo \"string\" para aquellos juegos que son gratis, por lo que a continuación se convierten todos los valores en numéricos:"
   ]
  },
  {
   "cell_type": "code",
   "execution_count": 331,
   "metadata": {},
   "outputs": [],
   "source": [
    "# Se crea una lista para aquellos valores que no pueden convertirse a \"float\"\n",
    "no_floats = []\n",
    "\n",
    "for valor in df_games1[\"price\"].unique():   # para cada valor único de la columna precio\n",
    "    try:\n",
    "        float(valor)                        # se prueba cambiar el valor a tipo floar\n",
    "    except ValueError:\n",
    "        no_floats.append(valor)             # si no se puede, se agrega a la lista de strings"
   ]
  },
  {
   "cell_type": "code",
   "execution_count": 299,
   "metadata": {},
   "outputs": [
    {
     "data": {
      "text/plain": [
       "['Free To Play',\n",
       " 'Free to Play',\n",
       " 'Free',\n",
       " 'Free Demo',\n",
       " 'Play for Free!',\n",
       " 'Install Now',\n",
       " 'Play WARMACHINE: Tactics Demo',\n",
       " 'Free Mod',\n",
       " 'Play Now',\n",
       " 'Free HITMAN™ Holiday Pack',\n",
       " 'Play the Demo',\n",
       " 'Third-party']"
      ]
     },
     "execution_count": 299,
     "metadata": {},
     "output_type": "execute_result"
    }
   ],
   "source": [
    "# Observamos el total de valores \"string\" en la columna precio:\n",
    "no_floats"
   ]
  },
  {
   "cell_type": "markdown",
   "metadata": {},
   "source": [
    "Se puede observar que por las descripciones expuestas, en casi todos los casos se trata de pruebas gratuitas o demos, por lo que se reemplazan esos valores por cero:"
   ]
  },
  {
   "cell_type": "code",
   "execution_count": 332,
   "metadata": {},
   "outputs": [
    {
     "data": {
      "text/html": [
       "<div>\n",
       "<style scoped>\n",
       "    .dataframe tbody tr th:only-of-type {\n",
       "        vertical-align: middle;\n",
       "    }\n",
       "\n",
       "    .dataframe tbody tr th {\n",
       "        vertical-align: top;\n",
       "    }\n",
       "\n",
       "    .dataframe thead th {\n",
       "        text-align: right;\n",
       "    }\n",
       "</style>\n",
       "<table border=\"1\" class=\"dataframe\">\n",
       "  <thead>\n",
       "    <tr style=\"text-align: right;\">\n",
       "      <th></th>\n",
       "      <th>publisher</th>\n",
       "      <th>genres</th>\n",
       "      <th>app_name</th>\n",
       "      <th>title</th>\n",
       "      <th>tags</th>\n",
       "      <th>specs</th>\n",
       "      <th>price</th>\n",
       "      <th>id</th>\n",
       "      <th>developer</th>\n",
       "      <th>release_year</th>\n",
       "    </tr>\n",
       "  </thead>\n",
       "  <tbody>\n",
       "    <tr>\n",
       "      <th>0</th>\n",
       "      <td>Kotoshiro</td>\n",
       "      <td>[Action, Casual, Indie, Simulation, Strategy]</td>\n",
       "      <td>Lost Summoner Kitty</td>\n",
       "      <td>Lost Summoner Kitty</td>\n",
       "      <td>[Strategy, Action, Indie, Casual, Simulation]</td>\n",
       "      <td>[Single-player]</td>\n",
       "      <td>4.99</td>\n",
       "      <td>761140</td>\n",
       "      <td>Kotoshiro</td>\n",
       "      <td>2018</td>\n",
       "    </tr>\n",
       "    <tr>\n",
       "      <th>1</th>\n",
       "      <td>Making Fun, Inc.</td>\n",
       "      <td>[Free to Play, Indie, RPG, Strategy]</td>\n",
       "      <td>Ironbound</td>\n",
       "      <td>Ironbound</td>\n",
       "      <td>[Free to Play, Strategy, Indie, RPG, Card Game...</td>\n",
       "      <td>[Single-player, Multi-player, Online Multi-Pla...</td>\n",
       "      <td>0.00</td>\n",
       "      <td>643980</td>\n",
       "      <td>Secret Level SRL</td>\n",
       "      <td>2018</td>\n",
       "    </tr>\n",
       "    <tr>\n",
       "      <th>2</th>\n",
       "      <td>Poolians.com</td>\n",
       "      <td>[Casual, Free to Play, Indie, Simulation, Sports]</td>\n",
       "      <td>Real Pool 3D - Poolians</td>\n",
       "      <td>Real Pool 3D - Poolians</td>\n",
       "      <td>[Free to Play, Simulation, Sports, Casual, Ind...</td>\n",
       "      <td>[Single-player, Multi-player, Online Multi-Pla...</td>\n",
       "      <td>0.00</td>\n",
       "      <td>670290</td>\n",
       "      <td>Poolians.com</td>\n",
       "      <td>2017</td>\n",
       "    </tr>\n",
       "    <tr>\n",
       "      <th>3</th>\n",
       "      <td>彼岸领域</td>\n",
       "      <td>[Action, Adventure, Casual]</td>\n",
       "      <td>弹炸人2222</td>\n",
       "      <td>弹炸人2222</td>\n",
       "      <td>[Action, Adventure, Casual]</td>\n",
       "      <td>[Single-player]</td>\n",
       "      <td>0.99</td>\n",
       "      <td>767400</td>\n",
       "      <td>彼岸领域</td>\n",
       "      <td>2017</td>\n",
       "    </tr>\n",
       "    <tr>\n",
       "      <th>4</th>\n",
       "      <td>Trickjump Games Ltd</td>\n",
       "      <td>[Action, Adventure, Simulation]</td>\n",
       "      <td>Battle Royale Trainer</td>\n",
       "      <td>Battle Royale Trainer</td>\n",
       "      <td>[Action, Adventure, Simulation, FPS, Shooter, ...</td>\n",
       "      <td>[Single-player, Steam Achievements]</td>\n",
       "      <td>3.99</td>\n",
       "      <td>772540</td>\n",
       "      <td>Trickjump Games Ltd</td>\n",
       "      <td>2018</td>\n",
       "    </tr>\n",
       "  </tbody>\n",
       "</table>\n",
       "</div>"
      ],
      "text/plain": [
       "             publisher                                             genres  \\\n",
       "0            Kotoshiro      [Action, Casual, Indie, Simulation, Strategy]   \n",
       "1     Making Fun, Inc.               [Free to Play, Indie, RPG, Strategy]   \n",
       "2         Poolians.com  [Casual, Free to Play, Indie, Simulation, Sports]   \n",
       "3                 彼岸领域                        [Action, Adventure, Casual]   \n",
       "4  Trickjump Games Ltd                    [Action, Adventure, Simulation]   \n",
       "\n",
       "                  app_name                    title  \\\n",
       "0      Lost Summoner Kitty      Lost Summoner Kitty   \n",
       "1                Ironbound                Ironbound   \n",
       "2  Real Pool 3D - Poolians  Real Pool 3D - Poolians   \n",
       "3                  弹炸人2222                  弹炸人2222   \n",
       "4    Battle Royale Trainer    Battle Royale Trainer   \n",
       "\n",
       "                                                tags  \\\n",
       "0      [Strategy, Action, Indie, Casual, Simulation]   \n",
       "1  [Free to Play, Strategy, Indie, RPG, Card Game...   \n",
       "2  [Free to Play, Simulation, Sports, Casual, Ind...   \n",
       "3                        [Action, Adventure, Casual]   \n",
       "4  [Action, Adventure, Simulation, FPS, Shooter, ...   \n",
       "\n",
       "                                               specs  price      id  \\\n",
       "0                                    [Single-player]   4.99  761140   \n",
       "1  [Single-player, Multi-player, Online Multi-Pla...   0.00  643980   \n",
       "2  [Single-player, Multi-player, Online Multi-Pla...   0.00  670290   \n",
       "3                                    [Single-player]   0.99  767400   \n",
       "4                [Single-player, Steam Achievements]   3.99  772540   \n",
       "\n",
       "             developer release_year  \n",
       "0            Kotoshiro         2018  \n",
       "1     Secret Level SRL         2018  \n",
       "2         Poolians.com         2017  \n",
       "3                 彼岸领域         2017  \n",
       "4  Trickjump Games Ltd         2018  "
      ]
     },
     "execution_count": 332,
     "metadata": {},
     "output_type": "execute_result"
    }
   ],
   "source": [
    "# Los juegos gratuitos se reemplazan por cero\n",
    "df_games1['price'] = df_games1['price'].replace(no_floats, 0.0)\n",
    "\n",
    "# Se convierte la columna a tipo \"float\"\n",
    "df_games1['price'] = df_games1['price'].astype(float)\n",
    "df_games1.head()"
   ]
  },
  {
   "cell_type": "markdown",
   "metadata": {},
   "source": [
    "Como podemos ver, la columna \"genre\" almacena una lista de géneros que identifican al juego, por lo que a continuación se observa la cantidad de valores únicos:"
   ]
  },
  {
   "cell_type": "code",
   "execution_count": 336,
   "metadata": {},
   "outputs": [
    {
     "data": {
      "text/plain": [
       "array(['Action', 'Casual', 'Indie', 'Simulation', 'Strategy',\n",
       "       'Free to Play', 'RPG', 'Sports', 'Adventure', 'Racing',\n",
       "       'Early Access', 'Massively Multiplayer',\n",
       "       'Animation &amp; Modeling', 'Web Publishing', 'Education',\n",
       "       'Software Training', 'Utilities', 'Design &amp; Illustration',\n",
       "       'Audio Production', 'Video Production', 'Photo Editing'],\n",
       "      dtype=object)"
      ]
     },
     "execution_count": 336,
     "metadata": {},
     "output_type": "execute_result"
    }
   ],
   "source": [
    "# Se realiza la apertura del DataFrame por la columna \"genre\":\n",
    "df_games_genre = df_games1[['genres', 'id']]\n",
    "df_games_genre = df_games_genre.explode('genres')\n",
    "\n",
    "# Se consultan los valores únicos\n",
    "unique_genres = df_games_genre['genres'].unique()\n",
    "unique_genres"
   ]
  },
  {
   "cell_type": "code",
   "execution_count": 214,
   "metadata": {},
   "outputs": [
    {
     "data": {
      "text/plain": [
       "21"
      ]
     },
     "execution_count": 214,
     "metadata": {},
     "output_type": "execute_result"
    }
   ],
   "source": [
    "len(unique_genres)"
   ]
  },
  {
   "cell_type": "code",
   "execution_count": 337,
   "metadata": {},
   "outputs": [
    {
     "data": {
      "text/html": [
       "<div>\n",
       "<style scoped>\n",
       "    .dataframe tbody tr th:only-of-type {\n",
       "        vertical-align: middle;\n",
       "    }\n",
       "\n",
       "    .dataframe tbody tr th {\n",
       "        vertical-align: top;\n",
       "    }\n",
       "\n",
       "    .dataframe thead th {\n",
       "        text-align: right;\n",
       "    }\n",
       "</style>\n",
       "<table border=\"1\" class=\"dataframe\">\n",
       "  <thead>\n",
       "    <tr style=\"text-align: right;\">\n",
       "      <th></th>\n",
       "      <th>genres</th>\n",
       "      <th>id</th>\n",
       "    </tr>\n",
       "  </thead>\n",
       "  <tbody>\n",
       "    <tr>\n",
       "      <th>0</th>\n",
       "      <td>Action</td>\n",
       "      <td>761140</td>\n",
       "    </tr>\n",
       "    <tr>\n",
       "      <th>0</th>\n",
       "      <td>Casual</td>\n",
       "      <td>761140</td>\n",
       "    </tr>\n",
       "    <tr>\n",
       "      <th>0</th>\n",
       "      <td>Indie</td>\n",
       "      <td>761140</td>\n",
       "    </tr>\n",
       "    <tr>\n",
       "      <th>0</th>\n",
       "      <td>Simulation</td>\n",
       "      <td>761140</td>\n",
       "    </tr>\n",
       "    <tr>\n",
       "      <th>0</th>\n",
       "      <td>Strategy</td>\n",
       "      <td>761140</td>\n",
       "    </tr>\n",
       "    <tr>\n",
       "      <th>...</th>\n",
       "      <td>...</td>\n",
       "      <td>...</td>\n",
       "    </tr>\n",
       "    <tr>\n",
       "      <th>22528</th>\n",
       "      <td>Indie</td>\n",
       "      <td>610660</td>\n",
       "    </tr>\n",
       "    <tr>\n",
       "      <th>22528</th>\n",
       "      <td>Racing</td>\n",
       "      <td>610660</td>\n",
       "    </tr>\n",
       "    <tr>\n",
       "      <th>22528</th>\n",
       "      <td>Simulation</td>\n",
       "      <td>610660</td>\n",
       "    </tr>\n",
       "    <tr>\n",
       "      <th>22529</th>\n",
       "      <td>Casual</td>\n",
       "      <td>658870</td>\n",
       "    </tr>\n",
       "    <tr>\n",
       "      <th>22529</th>\n",
       "      <td>Indie</td>\n",
       "      <td>658870</td>\n",
       "    </tr>\n",
       "  </tbody>\n",
       "</table>\n",
       "<p>55611 rows × 2 columns</p>\n",
       "</div>"
      ],
      "text/plain": [
       "           genres      id\n",
       "0          Action  761140\n",
       "0          Casual  761140\n",
       "0           Indie  761140\n",
       "0      Simulation  761140\n",
       "0        Strategy  761140\n",
       "...           ...     ...\n",
       "22528       Indie  610660\n",
       "22528      Racing  610660\n",
       "22528  Simulation  610660\n",
       "22529      Casual  658870\n",
       "22529       Indie  658870\n",
       "\n",
       "[55611 rows x 2 columns]"
      ]
     },
     "execution_count": 337,
     "metadata": {},
     "output_type": "execute_result"
    }
   ],
   "source": [
    "df_games_genre"
   ]
  },
  {
   "cell_type": "markdown",
   "metadata": {},
   "source": [
    "Debido a que necesitamos analizar cada género por separado, se realiza la apertura de los mismos en columnas:"
   ]
  },
  {
   "cell_type": "code",
   "execution_count": 338,
   "metadata": {},
   "outputs": [
    {
     "name": "stdout",
     "output_type": "stream",
     "text": [
      "(55611, 22)\n"
     ]
    },
    {
     "data": {
      "text/html": [
       "<div>\n",
       "<style scoped>\n",
       "    .dataframe tbody tr th:only-of-type {\n",
       "        vertical-align: middle;\n",
       "    }\n",
       "\n",
       "    .dataframe tbody tr th {\n",
       "        vertical-align: top;\n",
       "    }\n",
       "\n",
       "    .dataframe thead th {\n",
       "        text-align: right;\n",
       "    }\n",
       "</style>\n",
       "<table border=\"1\" class=\"dataframe\">\n",
       "  <thead>\n",
       "    <tr style=\"text-align: right;\">\n",
       "      <th></th>\n",
       "      <th>id</th>\n",
       "      <th>Action</th>\n",
       "      <th>Adventure</th>\n",
       "      <th>Animation and Modeling</th>\n",
       "      <th>Audio Production</th>\n",
       "      <th>Casual</th>\n",
       "      <th>Design and llustration</th>\n",
       "      <th>Early Access</th>\n",
       "      <th>Education</th>\n",
       "      <th>Free to Play</th>\n",
       "      <th>...</th>\n",
       "      <th>Photo Editing</th>\n",
       "      <th>RPG</th>\n",
       "      <th>Racing</th>\n",
       "      <th>Simulation</th>\n",
       "      <th>Software Training</th>\n",
       "      <th>Sports</th>\n",
       "      <th>Strategy</th>\n",
       "      <th>Utilities</th>\n",
       "      <th>Video Production</th>\n",
       "      <th>Web Publishing</th>\n",
       "    </tr>\n",
       "  </thead>\n",
       "  <tbody>\n",
       "    <tr>\n",
       "      <th>0</th>\n",
       "      <td>761140</td>\n",
       "      <td>1</td>\n",
       "      <td>0</td>\n",
       "      <td>0</td>\n",
       "      <td>0</td>\n",
       "      <td>0</td>\n",
       "      <td>0</td>\n",
       "      <td>0</td>\n",
       "      <td>0</td>\n",
       "      <td>0</td>\n",
       "      <td>...</td>\n",
       "      <td>0</td>\n",
       "      <td>0</td>\n",
       "      <td>0</td>\n",
       "      <td>0</td>\n",
       "      <td>0</td>\n",
       "      <td>0</td>\n",
       "      <td>0</td>\n",
       "      <td>0</td>\n",
       "      <td>0</td>\n",
       "      <td>0</td>\n",
       "    </tr>\n",
       "    <tr>\n",
       "      <th>0</th>\n",
       "      <td>761140</td>\n",
       "      <td>0</td>\n",
       "      <td>0</td>\n",
       "      <td>0</td>\n",
       "      <td>0</td>\n",
       "      <td>1</td>\n",
       "      <td>0</td>\n",
       "      <td>0</td>\n",
       "      <td>0</td>\n",
       "      <td>0</td>\n",
       "      <td>...</td>\n",
       "      <td>0</td>\n",
       "      <td>0</td>\n",
       "      <td>0</td>\n",
       "      <td>0</td>\n",
       "      <td>0</td>\n",
       "      <td>0</td>\n",
       "      <td>0</td>\n",
       "      <td>0</td>\n",
       "      <td>0</td>\n",
       "      <td>0</td>\n",
       "    </tr>\n",
       "  </tbody>\n",
       "</table>\n",
       "<p>2 rows × 22 columns</p>\n",
       "</div>"
      ],
      "text/plain": [
       "       id  Action  Adventure  Animation and Modeling  Audio Production  \\\n",
       "0  761140       1          0                       0                 0   \n",
       "0  761140       0          0                       0                 0   \n",
       "\n",
       "   Casual  Design and llustration  Early Access  Education  Free to Play  ...  \\\n",
       "0       0                       0             0          0             0  ...   \n",
       "0       1                       0             0          0             0  ...   \n",
       "\n",
       "   Photo Editing  RPG  Racing  Simulation  Software Training  Sports  \\\n",
       "0              0    0       0           0                  0       0   \n",
       "0              0    0       0           0                  0       0   \n",
       "\n",
       "   Strategy  Utilities  Video Production  Web Publishing  \n",
       "0         0          0                 0               0  \n",
       "0         0          0                 0               0  \n",
       "\n",
       "[2 rows x 22 columns]"
      ]
     },
     "execution_count": 338,
     "metadata": {},
     "output_type": "execute_result"
    }
   ],
   "source": [
    "# Se corrigen los géneros que tienen error:\n",
    "df_games_genre['genres'].replace(\"Animation &amp; Modeling\",\"Animation and Modeling\", inplace= True)\n",
    "df_games_genre['genres'].replace(\"Design &amp; Illustration\",\"Design and llustration\", inplace=True)\n",
    "\n",
    "# Se crean columnas para cada uno de los géneros:\n",
    "df_games_genre = pd.get_dummies(data = df_games_genre, columns=[\"genres\"], dtype = int, prefix=\"\", prefix_sep = \"\")\n",
    "\n",
    "print(df_games_genre.shape)\n",
    "df_games_genre.head(2)"
   ]
  },
  {
   "cell_type": "code",
   "execution_count": 339,
   "metadata": {},
   "outputs": [
    {
     "data": {
      "text/plain": [
       "(22529, 10)"
      ]
     },
     "execution_count": 339,
     "metadata": {},
     "output_type": "execute_result"
    }
   ],
   "source": [
    "# Se observa la cantidad de filas en el DF original para comparar:\n",
    "df_games1.shape"
   ]
  },
  {
   "cell_type": "markdown",
   "metadata": {},
   "source": [
    "Se observa que el DF de generos tienen valores duplicados, por lo que se procede a agruparlos por Id para unirlos al DF original:"
   ]
  },
  {
   "cell_type": "code",
   "execution_count": 348,
   "metadata": {},
   "outputs": [
    {
     "data": {
      "text/plain": [
       "(22529, 22)"
      ]
     },
     "execution_count": 348,
     "metadata": {},
     "output_type": "execute_result"
    }
   ],
   "source": [
    "# se agrupan los generos por id:\n",
    "df_games_genre = df_games_genre.groupby(\"id\").sum().reset_index()\n",
    "\n",
    "df_games_genre.shape"
   ]
  },
  {
   "cell_type": "markdown",
   "metadata": {},
   "source": [
    "Se une el nuevo DataFrame al original:"
   ]
  },
  {
   "cell_type": "code",
   "execution_count": 358,
   "metadata": {},
   "outputs": [
    {
     "data": {
      "text/html": [
       "<div>\n",
       "<style scoped>\n",
       "    .dataframe tbody tr th:only-of-type {\n",
       "        vertical-align: middle;\n",
       "    }\n",
       "\n",
       "    .dataframe tbody tr th {\n",
       "        vertical-align: top;\n",
       "    }\n",
       "\n",
       "    .dataframe thead th {\n",
       "        text-align: right;\n",
       "    }\n",
       "</style>\n",
       "<table border=\"1\" class=\"dataframe\">\n",
       "  <thead>\n",
       "    <tr style=\"text-align: right;\">\n",
       "      <th></th>\n",
       "      <th>publisher</th>\n",
       "      <th>genres</th>\n",
       "      <th>app_name</th>\n",
       "      <th>title</th>\n",
       "      <th>tags</th>\n",
       "      <th>specs</th>\n",
       "      <th>price</th>\n",
       "      <th>id</th>\n",
       "      <th>developer</th>\n",
       "      <th>release_year</th>\n",
       "      <th>...</th>\n",
       "      <th>Photo Editing</th>\n",
       "      <th>RPG</th>\n",
       "      <th>Racing</th>\n",
       "      <th>Simulation</th>\n",
       "      <th>Software Training</th>\n",
       "      <th>Sports</th>\n",
       "      <th>Strategy</th>\n",
       "      <th>Utilities</th>\n",
       "      <th>Video Production</th>\n",
       "      <th>Web Publishing</th>\n",
       "    </tr>\n",
       "  </thead>\n",
       "  <tbody>\n",
       "    <tr>\n",
       "      <th>0</th>\n",
       "      <td>Kotoshiro</td>\n",
       "      <td>[Action, Casual, Indie, Simulation, Strategy]</td>\n",
       "      <td>Lost Summoner Kitty</td>\n",
       "      <td>Lost Summoner Kitty</td>\n",
       "      <td>[Strategy, Action, Indie, Casual, Simulation]</td>\n",
       "      <td>[Single-player]</td>\n",
       "      <td>4.99</td>\n",
       "      <td>761140</td>\n",
       "      <td>Kotoshiro</td>\n",
       "      <td>2018</td>\n",
       "      <td>...</td>\n",
       "      <td>0</td>\n",
       "      <td>0</td>\n",
       "      <td>0</td>\n",
       "      <td>1</td>\n",
       "      <td>0</td>\n",
       "      <td>0</td>\n",
       "      <td>1</td>\n",
       "      <td>0</td>\n",
       "      <td>0</td>\n",
       "      <td>0</td>\n",
       "    </tr>\n",
       "    <tr>\n",
       "      <th>1</th>\n",
       "      <td>Making Fun, Inc.</td>\n",
       "      <td>[Free to Play, Indie, RPG, Strategy]</td>\n",
       "      <td>Ironbound</td>\n",
       "      <td>Ironbound</td>\n",
       "      <td>[Free to Play, Strategy, Indie, RPG, Card Game...</td>\n",
       "      <td>[Single-player, Multi-player, Online Multi-Pla...</td>\n",
       "      <td>0.00</td>\n",
       "      <td>643980</td>\n",
       "      <td>Secret Level SRL</td>\n",
       "      <td>2018</td>\n",
       "      <td>...</td>\n",
       "      <td>0</td>\n",
       "      <td>1</td>\n",
       "      <td>0</td>\n",
       "      <td>0</td>\n",
       "      <td>0</td>\n",
       "      <td>0</td>\n",
       "      <td>1</td>\n",
       "      <td>0</td>\n",
       "      <td>0</td>\n",
       "      <td>0</td>\n",
       "    </tr>\n",
       "    <tr>\n",
       "      <th>2</th>\n",
       "      <td>Poolians.com</td>\n",
       "      <td>[Casual, Free to Play, Indie, Simulation, Sports]</td>\n",
       "      <td>Real Pool 3D - Poolians</td>\n",
       "      <td>Real Pool 3D - Poolians</td>\n",
       "      <td>[Free to Play, Simulation, Sports, Casual, Ind...</td>\n",
       "      <td>[Single-player, Multi-player, Online Multi-Pla...</td>\n",
       "      <td>0.00</td>\n",
       "      <td>670290</td>\n",
       "      <td>Poolians.com</td>\n",
       "      <td>2017</td>\n",
       "      <td>...</td>\n",
       "      <td>0</td>\n",
       "      <td>0</td>\n",
       "      <td>0</td>\n",
       "      <td>1</td>\n",
       "      <td>0</td>\n",
       "      <td>1</td>\n",
       "      <td>0</td>\n",
       "      <td>0</td>\n",
       "      <td>0</td>\n",
       "      <td>0</td>\n",
       "    </tr>\n",
       "    <tr>\n",
       "      <th>3</th>\n",
       "      <td>彼岸领域</td>\n",
       "      <td>[Action, Adventure, Casual]</td>\n",
       "      <td>弹炸人2222</td>\n",
       "      <td>弹炸人2222</td>\n",
       "      <td>[Action, Adventure, Casual]</td>\n",
       "      <td>[Single-player]</td>\n",
       "      <td>0.99</td>\n",
       "      <td>767400</td>\n",
       "      <td>彼岸领域</td>\n",
       "      <td>2017</td>\n",
       "      <td>...</td>\n",
       "      <td>0</td>\n",
       "      <td>0</td>\n",
       "      <td>0</td>\n",
       "      <td>0</td>\n",
       "      <td>0</td>\n",
       "      <td>0</td>\n",
       "      <td>0</td>\n",
       "      <td>0</td>\n",
       "      <td>0</td>\n",
       "      <td>0</td>\n",
       "    </tr>\n",
       "    <tr>\n",
       "      <th>4</th>\n",
       "      <td>Trickjump Games Ltd</td>\n",
       "      <td>[Action, Adventure, Simulation]</td>\n",
       "      <td>Battle Royale Trainer</td>\n",
       "      <td>Battle Royale Trainer</td>\n",
       "      <td>[Action, Adventure, Simulation, FPS, Shooter, ...</td>\n",
       "      <td>[Single-player, Steam Achievements]</td>\n",
       "      <td>3.99</td>\n",
       "      <td>772540</td>\n",
       "      <td>Trickjump Games Ltd</td>\n",
       "      <td>2018</td>\n",
       "      <td>...</td>\n",
       "      <td>0</td>\n",
       "      <td>0</td>\n",
       "      <td>0</td>\n",
       "      <td>1</td>\n",
       "      <td>0</td>\n",
       "      <td>0</td>\n",
       "      <td>0</td>\n",
       "      <td>0</td>\n",
       "      <td>0</td>\n",
       "      <td>0</td>\n",
       "    </tr>\n",
       "  </tbody>\n",
       "</table>\n",
       "<p>5 rows × 31 columns</p>\n",
       "</div>"
      ],
      "text/plain": [
       "             publisher                                             genres  \\\n",
       "0            Kotoshiro      [Action, Casual, Indie, Simulation, Strategy]   \n",
       "1     Making Fun, Inc.               [Free to Play, Indie, RPG, Strategy]   \n",
       "2         Poolians.com  [Casual, Free to Play, Indie, Simulation, Sports]   \n",
       "3                 彼岸领域                        [Action, Adventure, Casual]   \n",
       "4  Trickjump Games Ltd                    [Action, Adventure, Simulation]   \n",
       "\n",
       "                  app_name                    title  \\\n",
       "0      Lost Summoner Kitty      Lost Summoner Kitty   \n",
       "1                Ironbound                Ironbound   \n",
       "2  Real Pool 3D - Poolians  Real Pool 3D - Poolians   \n",
       "3                  弹炸人2222                  弹炸人2222   \n",
       "4    Battle Royale Trainer    Battle Royale Trainer   \n",
       "\n",
       "                                                tags  \\\n",
       "0      [Strategy, Action, Indie, Casual, Simulation]   \n",
       "1  [Free to Play, Strategy, Indie, RPG, Card Game...   \n",
       "2  [Free to Play, Simulation, Sports, Casual, Ind...   \n",
       "3                        [Action, Adventure, Casual]   \n",
       "4  [Action, Adventure, Simulation, FPS, Shooter, ...   \n",
       "\n",
       "                                               specs  price      id  \\\n",
       "0                                    [Single-player]   4.99  761140   \n",
       "1  [Single-player, Multi-player, Online Multi-Pla...   0.00  643980   \n",
       "2  [Single-player, Multi-player, Online Multi-Pla...   0.00  670290   \n",
       "3                                    [Single-player]   0.99  767400   \n",
       "4                [Single-player, Steam Achievements]   3.99  772540   \n",
       "\n",
       "             developer release_year  ...  Photo Editing  RPG  Racing  \\\n",
       "0            Kotoshiro         2018  ...              0    0       0   \n",
       "1     Secret Level SRL         2018  ...              0    1       0   \n",
       "2         Poolians.com         2017  ...              0    0       0   \n",
       "3                 彼岸领域         2017  ...              0    0       0   \n",
       "4  Trickjump Games Ltd         2018  ...              0    0       0   \n",
       "\n",
       "   Simulation  Software Training  Sports  Strategy  Utilities  \\\n",
       "0           1                  0       0         1          0   \n",
       "1           0                  0       0         1          0   \n",
       "2           1                  0       1         0          0   \n",
       "3           0                  0       0         0          0   \n",
       "4           1                  0       0         0          0   \n",
       "\n",
       "   Video Production  Web Publishing  \n",
       "0                 0               0  \n",
       "1                 0               0  \n",
       "2                 0               0  \n",
       "3                 0               0  \n",
       "4                 0               0  \n",
       "\n",
       "[5 rows x 31 columns]"
      ]
     },
     "execution_count": 358,
     "metadata": {},
     "output_type": "execute_result"
    }
   ],
   "source": [
    "df_steam_games = pd.merge(df_games1, df_games_genre, on = \"id\", how = \"inner\")\n",
    "df_steam_games.head()"
   ]
  },
  {
   "cell_type": "code",
   "execution_count": 1,
   "metadata": {},
   "outputs": [
    {
     "ename": "NameError",
     "evalue": "name 'df_steam_games' is not defined",
     "output_type": "error",
     "traceback": [
      "\u001b[1;31m---------------------------------------------------------------------------\u001b[0m",
      "\u001b[1;31mNameError\u001b[0m                                 Traceback (most recent call last)",
      "\u001b[1;32mc:\\Users\\Javi Dichiachio\\Desktop\\Data Science Henry\\LABS\\PI_01\\ETL.ipynb Cell 38\u001b[0m line \u001b[0;36m1\n\u001b[1;32m----> <a href='vscode-notebook-cell:/c%3A/Users/Javi%20Dichiachio/Desktop/Data%20Science%20Henry/LABS/PI_01/ETL.ipynb#Y311sZmlsZQ%3D%3D?line=0'>1</a>\u001b[0m df_steam_games[\u001b[39m\"\u001b[39m\u001b[39mposted_year\u001b[39m\u001b[39m\"\u001b[39m]\u001b[39m.\u001b[39mmax()\n",
      "\u001b[1;31mNameError\u001b[0m: name 'df_steam_games' is not defined"
     ]
    }
   ],
   "source": [
    "df_steam_games[\"posted_year\"].max()"
   ]
  },
  {
   "cell_type": "markdown",
   "metadata": {},
   "source": [
    "Luego se eliminan las columnas que no se utilizarán:"
   ]
  },
  {
   "cell_type": "code",
   "execution_count": 359,
   "metadata": {},
   "outputs": [],
   "source": [
    "df_steam_games = df_steam_games.drop(columns=[\"publisher\",\"genres\",\"specs\", \"tags\"])"
   ]
  },
  {
   "cell_type": "code",
   "execution_count": 360,
   "metadata": {},
   "outputs": [
    {
     "data": {
      "text/plain": [
       "Index(['app_name', 'title', 'price', 'id', 'developer', 'release_year',\n",
       "       'Action', 'Adventure', 'Animation and Modeling', 'Audio Production',\n",
       "       'Casual', 'Design and llustration', 'Early Access', 'Education',\n",
       "       'Free to Play', 'Indie', 'Massively Multiplayer', 'Photo Editing',\n",
       "       'RPG', 'Racing', 'Simulation', 'Software Training', 'Sports',\n",
       "       'Strategy', 'Utilities', 'Video Production', 'Web Publishing'],\n",
       "      dtype='object')"
      ]
     },
     "execution_count": 360,
     "metadata": {},
     "output_type": "execute_result"
    }
   ],
   "source": [
    "df_steam_games.columns"
   ]
  },
  {
   "cell_type": "markdown",
   "metadata": {},
   "source": [
    "Se realiza un ultimo control de las tipologías de datos:"
   ]
  },
  {
   "cell_type": "code",
   "execution_count": 364,
   "metadata": {},
   "outputs": [
    {
     "name": "stdout",
     "output_type": "stream",
     "text": [
      "<class 'pandas.core.frame.DataFrame'>\n",
      "Index: 22527 entries, 0 to 22528\n",
      "Data columns (total 27 columns):\n",
      " #   Column                  Non-Null Count  Dtype  \n",
      "---  ------                  --------------  -----  \n",
      " 0   app_name                22527 non-null  object \n",
      " 1   title                   22527 non-null  object \n",
      " 2   price                   22527 non-null  float64\n",
      " 3   item_id                 22527 non-null  object \n",
      " 4   developer               22527 non-null  object \n",
      " 5   release_year            22527 non-null  int32  \n",
      " 6   Action                  22527 non-null  int32  \n",
      " 7   Adventure               22527 non-null  int32  \n",
      " 8   Animation and Modeling  22527 non-null  int32  \n",
      " 9   Audio Production        22527 non-null  int32  \n",
      " 10  Casual                  22527 non-null  int32  \n",
      " 11  Design and llustration  22527 non-null  int32  \n",
      " 12  Early Access            22527 non-null  int32  \n",
      " 13  Education               22527 non-null  int32  \n",
      " 14  Free to Play            22527 non-null  int32  \n",
      " 15  Indie                   22527 non-null  int32  \n",
      " 16  Massively Multiplayer   22527 non-null  int32  \n",
      " 17  Photo Editing           22527 non-null  int32  \n",
      " 18  RPG                     22527 non-null  int32  \n",
      " 19  Racing                  22527 non-null  int32  \n",
      " 20  Simulation              22527 non-null  int32  \n",
      " 21  Software Training       22527 non-null  int32  \n",
      " 22  Sports                  22527 non-null  int32  \n",
      " 23  Strategy                22527 non-null  int32  \n",
      " 24  Utilities               22527 non-null  int32  \n",
      " 25  Video Production        22527 non-null  int32  \n",
      " 26  Web Publishing          22527 non-null  int32  \n",
      "dtypes: float64(1), int32(22), object(4)\n",
      "memory usage: 2.9+ MB\n"
     ]
    }
   ],
   "source": [
    "df_steam_games.info()"
   ]
  },
  {
   "cell_type": "code",
   "execution_count": 362,
   "metadata": {},
   "outputs": [],
   "source": [
    "# Se eliminan valores nulos y cambia el tipo de dato del release_year\n",
    "df_steam_games = df_steam_games.dropna(subset=\"release_year\")\n",
    "df_steam_games[\"release_year\"] = df_steam_games[\"release_year\"].astype(int)"
   ]
  },
  {
   "cell_type": "markdown",
   "metadata": {},
   "source": [
    "Se renombra la columna id:"
   ]
  },
  {
   "cell_type": "code",
   "execution_count": 363,
   "metadata": {},
   "outputs": [],
   "source": [
    "df_steam_games = df_steam_games.rename(columns = {\"id\" : \"item_id\"})"
   ]
  },
  {
   "cell_type": "markdown",
   "metadata": {},
   "source": [
    "Se exporta el dataframe modificado a un archivo parquet:"
   ]
  },
  {
   "cell_type": "code",
   "execution_count": 365,
   "metadata": {},
   "outputs": [],
   "source": [
    "#df_steam_games.to_csv('steam_games.csv', index=False)"
   ]
  },
  {
   "cell_type": "code",
   "execution_count": null,
   "metadata": {},
   "outputs": [],
   "source": [
    "df_steam_games.to_parquet('steam_games.parquet', engine=\"pyarrow\")"
   ]
  },
  {
   "cell_type": "markdown",
   "metadata": {},
   "source": [
    "## User reviews:"
   ]
  },
  {
   "cell_type": "markdown",
   "metadata": {},
   "source": [
    "Los archivos de items y reviews de usuarios corresponen a archivos \"json\" anidados, por lo que a continuación se crea una función que nos ayudará con la carga de la información en DataFrames de Pandas:"
   ]
  },
  {
   "cell_type": "code",
   "execution_count": 2,
   "metadata": {},
   "outputs": [],
   "source": [
    "def cargar_df(ruta, variable_anidada):\n",
    "    '''Función que recibe una ruta de acceso a un archivo json anidado y carga la información en un\n",
    "    DataFrame de Pandas'''\n",
    "    rows = []\n",
    "    with open(ruta, 'r', encoding='utf-8') as file:                         # se lee el archivo iterando fila por fila y agregando a lista vacia\n",
    "        for line in file:\n",
    "            rows.append(ast.literal_eval(line)) \n",
    "    \n",
    "    df = pd.DataFrame(rows)                                                 # se carga la info en un df de Pandas            \n",
    "    df = df.explode(variable_anidada).reset_index()                         # se separan en filas los datos anidados y se resetea index\n",
    "    df = df.drop(columns=\"index\")                                           # se elimina el indice original\n",
    "    df = pd.concat([df, pd.json_normalize(df[variable_anidada])], axis=1)   # se realiza la apertura en columnas de la informacion anidada\n",
    "    df = df.drop(columns=variable_anidada)                                  # se elimina la columna anidada original\n",
    "\n",
    "    return df"
   ]
  },
  {
   "cell_type": "code",
   "execution_count": 222,
   "metadata": {},
   "outputs": [
    {
     "data": {
      "text/html": [
       "<div>\n",
       "<style scoped>\n",
       "    .dataframe tbody tr th:only-of-type {\n",
       "        vertical-align: middle;\n",
       "    }\n",
       "\n",
       "    .dataframe tbody tr th {\n",
       "        vertical-align: top;\n",
       "    }\n",
       "\n",
       "    .dataframe thead th {\n",
       "        text-align: right;\n",
       "    }\n",
       "</style>\n",
       "<table border=\"1\" class=\"dataframe\">\n",
       "  <thead>\n",
       "    <tr style=\"text-align: right;\">\n",
       "      <th></th>\n",
       "      <th>user_id</th>\n",
       "      <th>user_url</th>\n",
       "      <th>funny</th>\n",
       "      <th>posted</th>\n",
       "      <th>last_edited</th>\n",
       "      <th>item_id</th>\n",
       "      <th>helpful</th>\n",
       "      <th>recommend</th>\n",
       "      <th>review</th>\n",
       "    </tr>\n",
       "  </thead>\n",
       "  <tbody>\n",
       "    <tr>\n",
       "      <th>0</th>\n",
       "      <td>76561197970982479</td>\n",
       "      <td>http://steamcommunity.com/profiles/76561197970...</td>\n",
       "      <td></td>\n",
       "      <td>Posted November 5, 2011.</td>\n",
       "      <td></td>\n",
       "      <td>1250</td>\n",
       "      <td>No ratings yet</td>\n",
       "      <td>True</td>\n",
       "      <td>Simple yet with great replayability. In my opi...</td>\n",
       "    </tr>\n",
       "    <tr>\n",
       "      <th>1</th>\n",
       "      <td>76561197970982479</td>\n",
       "      <td>http://steamcommunity.com/profiles/76561197970...</td>\n",
       "      <td></td>\n",
       "      <td>Posted July 15, 2011.</td>\n",
       "      <td></td>\n",
       "      <td>22200</td>\n",
       "      <td>No ratings yet</td>\n",
       "      <td>True</td>\n",
       "      <td>It's unique and worth a playthrough.</td>\n",
       "    </tr>\n",
       "    <tr>\n",
       "      <th>2</th>\n",
       "      <td>76561197970982479</td>\n",
       "      <td>http://steamcommunity.com/profiles/76561197970...</td>\n",
       "      <td></td>\n",
       "      <td>Posted April 21, 2011.</td>\n",
       "      <td></td>\n",
       "      <td>43110</td>\n",
       "      <td>No ratings yet</td>\n",
       "      <td>True</td>\n",
       "      <td>Great atmosphere. The gunplay can be a bit chu...</td>\n",
       "    </tr>\n",
       "    <tr>\n",
       "      <th>3</th>\n",
       "      <td>js41637</td>\n",
       "      <td>http://steamcommunity.com/id/js41637</td>\n",
       "      <td></td>\n",
       "      <td>Posted June 24, 2014.</td>\n",
       "      <td></td>\n",
       "      <td>251610</td>\n",
       "      <td>15 of 20 people (75%) found this review helpful</td>\n",
       "      <td>True</td>\n",
       "      <td>I know what you think when you see this title ...</td>\n",
       "    </tr>\n",
       "    <tr>\n",
       "      <th>4</th>\n",
       "      <td>js41637</td>\n",
       "      <td>http://steamcommunity.com/id/js41637</td>\n",
       "      <td></td>\n",
       "      <td>Posted September 8, 2013.</td>\n",
       "      <td></td>\n",
       "      <td>227300</td>\n",
       "      <td>0 of 1 people (0%) found this review helpful</td>\n",
       "      <td>True</td>\n",
       "      <td>For a simple (it's actually not all that simpl...</td>\n",
       "    </tr>\n",
       "  </tbody>\n",
       "</table>\n",
       "</div>"
      ],
      "text/plain": [
       "             user_id                                           user_url funny  \\\n",
       "0  76561197970982479  http://steamcommunity.com/profiles/76561197970...         \n",
       "1  76561197970982479  http://steamcommunity.com/profiles/76561197970...         \n",
       "2  76561197970982479  http://steamcommunity.com/profiles/76561197970...         \n",
       "3            js41637               http://steamcommunity.com/id/js41637         \n",
       "4            js41637               http://steamcommunity.com/id/js41637         \n",
       "\n",
       "                      posted last_edited item_id  \\\n",
       "0   Posted November 5, 2011.                1250   \n",
       "1      Posted July 15, 2011.               22200   \n",
       "2     Posted April 21, 2011.               43110   \n",
       "3      Posted June 24, 2014.              251610   \n",
       "4  Posted September 8, 2013.              227300   \n",
       "\n",
       "                                           helpful recommend  \\\n",
       "0                                   No ratings yet      True   \n",
       "1                                   No ratings yet      True   \n",
       "2                                   No ratings yet      True   \n",
       "3  15 of 20 people (75%) found this review helpful      True   \n",
       "4     0 of 1 people (0%) found this review helpful      True   \n",
       "\n",
       "                                              review  \n",
       "0  Simple yet with great replayability. In my opi...  \n",
       "1               It's unique and worth a playthrough.  \n",
       "2  Great atmosphere. The gunplay can be a bit chu...  \n",
       "3  I know what you think when you see this title ...  \n",
       "4  For a simple (it's actually not all that simpl...  "
      ]
     },
     "execution_count": 222,
     "metadata": {},
     "output_type": "execute_result"
    }
   ],
   "source": [
    "# Se carga el df correspondiente a las reviews:\n",
    "df_reviews = cargar_df(r'Datasets\\australian_user_reviews.json', \"reviews\")\n",
    "df_reviews.head()"
   ]
  },
  {
   "cell_type": "markdown",
   "metadata": {},
   "source": [
    "Chequeamos la información del dataset:"
   ]
  },
  {
   "cell_type": "code",
   "execution_count": 223,
   "metadata": {},
   "outputs": [
    {
     "name": "stdout",
     "output_type": "stream",
     "text": [
      "<class 'pandas.core.frame.DataFrame'>\n",
      "RangeIndex: 59333 entries, 0 to 59332\n",
      "Data columns (total 9 columns):\n",
      " #   Column       Non-Null Count  Dtype \n",
      "---  ------       --------------  ----- \n",
      " 0   user_id      59333 non-null  object\n",
      " 1   user_url     59333 non-null  object\n",
      " 2   funny        59305 non-null  object\n",
      " 3   posted       59305 non-null  object\n",
      " 4   last_edited  59305 non-null  object\n",
      " 5   item_id      59305 non-null  object\n",
      " 6   helpful      59305 non-null  object\n",
      " 7   recommend    59305 non-null  object\n",
      " 8   review       59305 non-null  object\n",
      "dtypes: object(9)\n",
      "memory usage: 4.1+ MB\n"
     ]
    }
   ],
   "source": [
    "df_reviews.info()"
   ]
  },
  {
   "cell_type": "code",
   "execution_count": 224,
   "metadata": {},
   "outputs": [
    {
     "data": {
      "text/plain": [
       "Index(['user_id', 'user_url', 'funny', 'posted', 'last_edited', 'item_id',\n",
       "       'helpful', 'recommend', 'review'],\n",
       "      dtype='object')"
      ]
     },
     "execution_count": 224,
     "metadata": {},
     "output_type": "execute_result"
    }
   ],
   "source": [
    "df_reviews.columns"
   ]
  },
  {
   "cell_type": "markdown",
   "metadata": {},
   "source": [
    "Se eliminan columnas innecesarias:"
   ]
  },
  {
   "cell_type": "code",
   "execution_count": 225,
   "metadata": {},
   "outputs": [
    {
     "data": {
      "text/html": [
       "<div>\n",
       "<style scoped>\n",
       "    .dataframe tbody tr th:only-of-type {\n",
       "        vertical-align: middle;\n",
       "    }\n",
       "\n",
       "    .dataframe tbody tr th {\n",
       "        vertical-align: top;\n",
       "    }\n",
       "\n",
       "    .dataframe thead th {\n",
       "        text-align: right;\n",
       "    }\n",
       "</style>\n",
       "<table border=\"1\" class=\"dataframe\">\n",
       "  <thead>\n",
       "    <tr style=\"text-align: right;\">\n",
       "      <th></th>\n",
       "      <th>user_id</th>\n",
       "      <th>posted</th>\n",
       "      <th>item_id</th>\n",
       "      <th>recommend</th>\n",
       "      <th>review</th>\n",
       "    </tr>\n",
       "  </thead>\n",
       "  <tbody>\n",
       "    <tr>\n",
       "      <th>0</th>\n",
       "      <td>76561197970982479</td>\n",
       "      <td>Posted November 5, 2011.</td>\n",
       "      <td>1250</td>\n",
       "      <td>True</td>\n",
       "      <td>Simple yet with great replayability. In my opi...</td>\n",
       "    </tr>\n",
       "    <tr>\n",
       "      <th>1</th>\n",
       "      <td>76561197970982479</td>\n",
       "      <td>Posted July 15, 2011.</td>\n",
       "      <td>22200</td>\n",
       "      <td>True</td>\n",
       "      <td>It's unique and worth a playthrough.</td>\n",
       "    </tr>\n",
       "    <tr>\n",
       "      <th>2</th>\n",
       "      <td>76561197970982479</td>\n",
       "      <td>Posted April 21, 2011.</td>\n",
       "      <td>43110</td>\n",
       "      <td>True</td>\n",
       "      <td>Great atmosphere. The gunplay can be a bit chu...</td>\n",
       "    </tr>\n",
       "    <tr>\n",
       "      <th>3</th>\n",
       "      <td>js41637</td>\n",
       "      <td>Posted June 24, 2014.</td>\n",
       "      <td>251610</td>\n",
       "      <td>True</td>\n",
       "      <td>I know what you think when you see this title ...</td>\n",
       "    </tr>\n",
       "    <tr>\n",
       "      <th>4</th>\n",
       "      <td>js41637</td>\n",
       "      <td>Posted September 8, 2013.</td>\n",
       "      <td>227300</td>\n",
       "      <td>True</td>\n",
       "      <td>For a simple (it's actually not all that simpl...</td>\n",
       "    </tr>\n",
       "  </tbody>\n",
       "</table>\n",
       "</div>"
      ],
      "text/plain": [
       "             user_id                     posted item_id recommend  \\\n",
       "0  76561197970982479   Posted November 5, 2011.    1250      True   \n",
       "1  76561197970982479      Posted July 15, 2011.   22200      True   \n",
       "2  76561197970982479     Posted April 21, 2011.   43110      True   \n",
       "3            js41637      Posted June 24, 2014.  251610      True   \n",
       "4            js41637  Posted September 8, 2013.  227300      True   \n",
       "\n",
       "                                              review  \n",
       "0  Simple yet with great replayability. In my opi...  \n",
       "1               It's unique and worth a playthrough.  \n",
       "2  Great atmosphere. The gunplay can be a bit chu...  \n",
       "3  I know what you think when you see this title ...  \n",
       "4  For a simple (it's actually not all that simpl...  "
      ]
     },
     "execution_count": 225,
     "metadata": {},
     "output_type": "execute_result"
    }
   ],
   "source": [
    "df_reviews = df_reviews.drop(columns=[\"user_url\", \"funny\", \"last_edited\", \"helpful\"])\n",
    "df_reviews.head()"
   ]
  },
  {
   "cell_type": "markdown",
   "metadata": {},
   "source": [
    "Se controla la cantidad de valores nulos:"
   ]
  },
  {
   "cell_type": "code",
   "execution_count": 226,
   "metadata": {},
   "outputs": [
    {
     "data": {
      "text/plain": [
       "user_id       0\n",
       "posted       28\n",
       "item_id      28\n",
       "recommend    28\n",
       "review       28\n",
       "dtype: int64"
      ]
     },
     "execution_count": 226,
     "metadata": {},
     "output_type": "execute_result"
    }
   ],
   "source": [
    "df_reviews.isna().sum()"
   ]
  },
  {
   "cell_type": "code",
   "execution_count": 227,
   "metadata": {},
   "outputs": [
    {
     "data": {
      "text/plain": [
       "(59305, 5)"
      ]
     },
     "execution_count": 227,
     "metadata": {},
     "output_type": "execute_result"
    }
   ],
   "source": [
    "# Se eliminan valores nulos:\n",
    "df_reviews = df_reviews.dropna(subset=\"item_id\")\n",
    "df_reviews.shape"
   ]
  },
  {
   "cell_type": "markdown",
   "metadata": {},
   "source": [
    "Se verifica la cantidad de valores duplicados:"
   ]
  },
  {
   "cell_type": "code",
   "execution_count": 228,
   "metadata": {},
   "outputs": [
    {
     "data": {
      "text/plain": [
       "874"
      ]
     },
     "execution_count": 228,
     "metadata": {},
     "output_type": "execute_result"
    }
   ],
   "source": [
    "has_duplicates = df_reviews.duplicated().sum()\n",
    "has_duplicates"
   ]
  },
  {
   "cell_type": "markdown",
   "metadata": {},
   "source": [
    "Se observan los valores duplicados:"
   ]
  },
  {
   "cell_type": "code",
   "execution_count": 229,
   "metadata": {},
   "outputs": [
    {
     "data": {
      "text/html": [
       "<div>\n",
       "<style scoped>\n",
       "    .dataframe tbody tr th:only-of-type {\n",
       "        vertical-align: middle;\n",
       "    }\n",
       "\n",
       "    .dataframe tbody tr th {\n",
       "        vertical-align: top;\n",
       "    }\n",
       "\n",
       "    .dataframe thead th {\n",
       "        text-align: right;\n",
       "    }\n",
       "</style>\n",
       "<table border=\"1\" class=\"dataframe\">\n",
       "  <thead>\n",
       "    <tr style=\"text-align: right;\">\n",
       "      <th></th>\n",
       "      <th>user_id</th>\n",
       "      <th>posted</th>\n",
       "      <th>item_id</th>\n",
       "      <th>recommend</th>\n",
       "      <th>review</th>\n",
       "    </tr>\n",
       "  </thead>\n",
       "  <tbody>\n",
       "    <tr>\n",
       "      <th>1114</th>\n",
       "      <td>bokkkbokkk</td>\n",
       "      <td>Posted September 24, 2015.</td>\n",
       "      <td>346110</td>\n",
       "      <td>True</td>\n",
       "      <td>yep</td>\n",
       "    </tr>\n",
       "    <tr>\n",
       "      <th>2894</th>\n",
       "      <td>ImSeriouss</td>\n",
       "      <td>Posted January 10, 2014.</td>\n",
       "      <td>218620</td>\n",
       "      <td>True</td>\n",
       "      <td>Good graphics, fun heists! A bit laggy</td>\n",
       "    </tr>\n",
       "    <tr>\n",
       "      <th>2895</th>\n",
       "      <td>ImSeriouss</td>\n",
       "      <td>Posted January 10, 2014.</td>\n",
       "      <td>105600</td>\n",
       "      <td>True</td>\n",
       "      <td>So fun! DEFINITELY NOT RIP OFF OF MINECRAFT! e...</td>\n",
       "    </tr>\n",
       "    <tr>\n",
       "      <th>2896</th>\n",
       "      <td>ImSeriouss</td>\n",
       "      <td>Posted December 17, 2014.</td>\n",
       "      <td>570</td>\n",
       "      <td>True</td>\n",
       "      <td>bobo pinoy</td>\n",
       "    </tr>\n",
       "    <tr>\n",
       "      <th>2897</th>\n",
       "      <td>ImSeriouss</td>\n",
       "      <td>Posted January 13, 2014.</td>\n",
       "      <td>211820</td>\n",
       "      <td>True</td>\n",
       "      <td>If you want to play this game.. expect glithes...</td>\n",
       "    </tr>\n",
       "    <tr>\n",
       "      <th>...</th>\n",
       "      <td>...</td>\n",
       "      <td>...</td>\n",
       "      <td>...</td>\n",
       "      <td>...</td>\n",
       "      <td>...</td>\n",
       "    </tr>\n",
       "    <tr>\n",
       "      <th>44456</th>\n",
       "      <td>76561198092022514</td>\n",
       "      <td>Posted July 3.</td>\n",
       "      <td>422400</td>\n",
       "      <td>True</td>\n",
       "      <td>Muy entretenido y una coleccion de armas prome...</td>\n",
       "    </tr>\n",
       "    <tr>\n",
       "      <th>44457</th>\n",
       "      <td>76561198092022514</td>\n",
       "      <td>Posted June 1.</td>\n",
       "      <td>218620</td>\n",
       "      <td>True</td>\n",
       "      <td>Tiene una jugabilidad y tematica muy buena :D,...</td>\n",
       "    </tr>\n",
       "    <tr>\n",
       "      <th>44458</th>\n",
       "      <td>76561198092022514</td>\n",
       "      <td>Posted August 17, 2014.</td>\n",
       "      <td>261820</td>\n",
       "      <td>True</td>\n",
       "      <td>Buen juego, no importa el desarrrollo que tien...</td>\n",
       "    </tr>\n",
       "    <tr>\n",
       "      <th>44459</th>\n",
       "      <td>76561198092022514</td>\n",
       "      <td>Posted February 17, 2014.</td>\n",
       "      <td>224260</td>\n",
       "      <td>True</td>\n",
       "      <td>exelente aporte :D¡¡¡ es una buen mod basado e...</td>\n",
       "    </tr>\n",
       "    <tr>\n",
       "      <th>44603</th>\n",
       "      <td>SuchGayMuchWow</td>\n",
       "      <td>Posted July 18, 2015.</td>\n",
       "      <td>730</td>\n",
       "      <td>True</td>\n",
       "      <td>10/10 too many children with mikes.</td>\n",
       "    </tr>\n",
       "  </tbody>\n",
       "</table>\n",
       "<p>874 rows × 5 columns</p>\n",
       "</div>"
      ],
      "text/plain": [
       "                 user_id                      posted item_id recommend  \\\n",
       "1114          bokkkbokkk  Posted September 24, 2015.  346110      True   \n",
       "2894          ImSeriouss    Posted January 10, 2014.  218620      True   \n",
       "2895          ImSeriouss    Posted January 10, 2014.  105600      True   \n",
       "2896          ImSeriouss   Posted December 17, 2014.     570      True   \n",
       "2897          ImSeriouss    Posted January 13, 2014.  211820      True   \n",
       "...                  ...                         ...     ...       ...   \n",
       "44456  76561198092022514              Posted July 3.  422400      True   \n",
       "44457  76561198092022514              Posted June 1.  218620      True   \n",
       "44458  76561198092022514     Posted August 17, 2014.  261820      True   \n",
       "44459  76561198092022514   Posted February 17, 2014.  224260      True   \n",
       "44603     SuchGayMuchWow       Posted July 18, 2015.     730      True   \n",
       "\n",
       "                                                  review  \n",
       "1114                                                 yep  \n",
       "2894              Good graphics, fun heists! A bit laggy  \n",
       "2895   So fun! DEFINITELY NOT RIP OFF OF MINECRAFT! e...  \n",
       "2896                                          bobo pinoy  \n",
       "2897   If you want to play this game.. expect glithes...  \n",
       "...                                                  ...  \n",
       "44456  Muy entretenido y una coleccion de armas prome...  \n",
       "44457  Tiene una jugabilidad y tematica muy buena :D,...  \n",
       "44458  Buen juego, no importa el desarrrollo que tien...  \n",
       "44459  exelente aporte :D¡¡¡ es una buen mod basado e...  \n",
       "44603                10/10 too many children with mikes.  \n",
       "\n",
       "[874 rows x 5 columns]"
      ]
     },
     "execution_count": 229,
     "metadata": {},
     "output_type": "execute_result"
    }
   ],
   "source": [
    "df_reviews[df_reviews.duplicated()]"
   ]
  },
  {
   "cell_type": "code",
   "execution_count": 230,
   "metadata": {},
   "outputs": [
    {
     "data": {
      "text/html": [
       "<div>\n",
       "<style scoped>\n",
       "    .dataframe tbody tr th:only-of-type {\n",
       "        vertical-align: middle;\n",
       "    }\n",
       "\n",
       "    .dataframe tbody tr th {\n",
       "        vertical-align: top;\n",
       "    }\n",
       "\n",
       "    .dataframe thead th {\n",
       "        text-align: right;\n",
       "    }\n",
       "</style>\n",
       "<table border=\"1\" class=\"dataframe\">\n",
       "  <thead>\n",
       "    <tr style=\"text-align: right;\">\n",
       "      <th></th>\n",
       "      <th>user_id</th>\n",
       "      <th>posted</th>\n",
       "      <th>item_id</th>\n",
       "      <th>recommend</th>\n",
       "      <th>review</th>\n",
       "    </tr>\n",
       "  </thead>\n",
       "  <tbody>\n",
       "    <tr>\n",
       "      <th>1113</th>\n",
       "      <td>bokkkbokkk</td>\n",
       "      <td>Posted September 24, 2015.</td>\n",
       "      <td>346110</td>\n",
       "      <td>True</td>\n",
       "      <td>yep</td>\n",
       "    </tr>\n",
       "    <tr>\n",
       "      <th>1114</th>\n",
       "      <td>bokkkbokkk</td>\n",
       "      <td>Posted September 24, 2015.</td>\n",
       "      <td>346110</td>\n",
       "      <td>True</td>\n",
       "      <td>yep</td>\n",
       "    </tr>\n",
       "  </tbody>\n",
       "</table>\n",
       "</div>"
      ],
      "text/plain": [
       "         user_id                      posted item_id recommend review\n",
       "1113  bokkkbokkk  Posted September 24, 2015.  346110      True    yep\n",
       "1114  bokkkbokkk  Posted September 24, 2015.  346110      True    yep"
      ]
     },
     "execution_count": 230,
     "metadata": {},
     "output_type": "execute_result"
    }
   ],
   "source": [
    "mascara = (df_reviews[\"user_id\"] == \"bokkkbokkk\")\n",
    "df_reviews[mascara]"
   ]
  },
  {
   "cell_type": "markdown",
   "metadata": {},
   "source": [
    "Se observa que efectivamente se trata de valores duplicados, por lo que se eliminan del análisis:"
   ]
  },
  {
   "cell_type": "code",
   "execution_count": 231,
   "metadata": {},
   "outputs": [
    {
     "data": {
      "text/plain": [
       "(58431, 5)"
      ]
     },
     "execution_count": 231,
     "metadata": {},
     "output_type": "execute_result"
    }
   ],
   "source": [
    "df_reviews = df_reviews.drop_duplicates()\n",
    "df_reviews.shape"
   ]
  },
  {
   "cell_type": "markdown",
   "metadata": {},
   "source": [
    "Luego se extrae el año en que fue posteda la review, creando la columna \"posted_year\":"
   ]
  },
  {
   "cell_type": "code",
   "execution_count": 232,
   "metadata": {},
   "outputs": [],
   "source": [
    "df_reviews[\"posted_year\"] = df_reviews[\"posted\"].str.extract(r'(\\d{4})')"
   ]
  },
  {
   "cell_type": "markdown",
   "metadata": {},
   "source": [
    "Se controla que no haya valores faltantes en esta nueva columna:"
   ]
  },
  {
   "cell_type": "code",
   "execution_count": 233,
   "metadata": {},
   "outputs": [
    {
     "data": {
      "text/plain": [
       "9933"
      ]
     },
     "execution_count": 233,
     "metadata": {},
     "output_type": "execute_result"
    }
   ],
   "source": [
    "df_reviews[\"posted_year\"].isnull().sum()"
   ]
  },
  {
   "cell_type": "markdown",
   "metadata": {},
   "source": [
    "Se observa que al hacer la extracción del año del posteo de la review existen algunos valores faltantes, por lo que se chequea cuales son:"
   ]
  },
  {
   "cell_type": "code",
   "execution_count": 234,
   "metadata": {},
   "outputs": [
    {
     "data": {
      "text/html": [
       "<div>\n",
       "<style scoped>\n",
       "    .dataframe tbody tr th:only-of-type {\n",
       "        vertical-align: middle;\n",
       "    }\n",
       "\n",
       "    .dataframe tbody tr th {\n",
       "        vertical-align: top;\n",
       "    }\n",
       "\n",
       "    .dataframe thead th {\n",
       "        text-align: right;\n",
       "    }\n",
       "</style>\n",
       "<table border=\"1\" class=\"dataframe\">\n",
       "  <thead>\n",
       "    <tr style=\"text-align: right;\">\n",
       "      <th></th>\n",
       "      <th>user_id</th>\n",
       "      <th>posted</th>\n",
       "      <th>item_id</th>\n",
       "      <th>recommend</th>\n",
       "      <th>review</th>\n",
       "      <th>posted_year</th>\n",
       "    </tr>\n",
       "  </thead>\n",
       "  <tbody>\n",
       "    <tr>\n",
       "      <th>6</th>\n",
       "      <td>evcentric</td>\n",
       "      <td>Posted February 3.</td>\n",
       "      <td>248820</td>\n",
       "      <td>True</td>\n",
       "      <td>A suitably punishing roguelike platformer.  Wi...</td>\n",
       "      <td>NaN</td>\n",
       "    </tr>\n",
       "    <tr>\n",
       "      <th>27</th>\n",
       "      <td>76561198079601835</td>\n",
       "      <td>Posted May 20.</td>\n",
       "      <td>730</td>\n",
       "      <td>True</td>\n",
       "      <td>ZIKA DO BAILE</td>\n",
       "      <td>NaN</td>\n",
       "    </tr>\n",
       "    <tr>\n",
       "      <th>28</th>\n",
       "      <td>MeaTCompany</td>\n",
       "      <td>Posted July 24.</td>\n",
       "      <td>730</td>\n",
       "      <td>True</td>\n",
       "      <td>BEST GAME IN THE BLOODY WORLD</td>\n",
       "      <td>NaN</td>\n",
       "    </tr>\n",
       "    <tr>\n",
       "      <th>31</th>\n",
       "      <td>76561198156664158</td>\n",
       "      <td>Posted June 16.</td>\n",
       "      <td>252950</td>\n",
       "      <td>True</td>\n",
       "      <td>love it</td>\n",
       "      <td>NaN</td>\n",
       "    </tr>\n",
       "    <tr>\n",
       "      <th>32</th>\n",
       "      <td>76561198077246154</td>\n",
       "      <td>Posted June 11.</td>\n",
       "      <td>440</td>\n",
       "      <td>True</td>\n",
       "      <td>mt bom</td>\n",
       "      <td>NaN</td>\n",
       "    </tr>\n",
       "    <tr>\n",
       "      <th>...</th>\n",
       "      <td>...</td>\n",
       "      <td>...</td>\n",
       "      <td>...</td>\n",
       "      <td>...</td>\n",
       "      <td>...</td>\n",
       "      <td>...</td>\n",
       "    </tr>\n",
       "    <tr>\n",
       "      <th>59328</th>\n",
       "      <td>76561198312638244</td>\n",
       "      <td>Posted July 10.</td>\n",
       "      <td>70</td>\n",
       "      <td>True</td>\n",
       "      <td>a must have classic from steam definitely wort...</td>\n",
       "      <td>NaN</td>\n",
       "    </tr>\n",
       "    <tr>\n",
       "      <th>59329</th>\n",
       "      <td>76561198312638244</td>\n",
       "      <td>Posted July 8.</td>\n",
       "      <td>362890</td>\n",
       "      <td>True</td>\n",
       "      <td>this game is a perfect remake of the original ...</td>\n",
       "      <td>NaN</td>\n",
       "    </tr>\n",
       "    <tr>\n",
       "      <th>59330</th>\n",
       "      <td>LydiaMorley</td>\n",
       "      <td>Posted July 3.</td>\n",
       "      <td>273110</td>\n",
       "      <td>True</td>\n",
       "      <td>had so much fun plaing this and collecting res...</td>\n",
       "      <td>NaN</td>\n",
       "    </tr>\n",
       "    <tr>\n",
       "      <th>59331</th>\n",
       "      <td>LydiaMorley</td>\n",
       "      <td>Posted July 20.</td>\n",
       "      <td>730</td>\n",
       "      <td>True</td>\n",
       "      <td>:D</td>\n",
       "      <td>NaN</td>\n",
       "    </tr>\n",
       "    <tr>\n",
       "      <th>59332</th>\n",
       "      <td>LydiaMorley</td>\n",
       "      <td>Posted July 2.</td>\n",
       "      <td>440</td>\n",
       "      <td>True</td>\n",
       "      <td>so much fun :D</td>\n",
       "      <td>NaN</td>\n",
       "    </tr>\n",
       "  </tbody>\n",
       "</table>\n",
       "<p>9933 rows × 6 columns</p>\n",
       "</div>"
      ],
      "text/plain": [
       "                 user_id              posted item_id recommend  \\\n",
       "6              evcentric  Posted February 3.  248820      True   \n",
       "27     76561198079601835      Posted May 20.     730      True   \n",
       "28           MeaTCompany     Posted July 24.     730      True   \n",
       "31     76561198156664158     Posted June 16.  252950      True   \n",
       "32     76561198077246154     Posted June 11.     440      True   \n",
       "...                  ...                 ...     ...       ...   \n",
       "59328  76561198312638244     Posted July 10.      70      True   \n",
       "59329  76561198312638244      Posted July 8.  362890      True   \n",
       "59330        LydiaMorley      Posted July 3.  273110      True   \n",
       "59331        LydiaMorley     Posted July 20.     730      True   \n",
       "59332        LydiaMorley      Posted July 2.     440      True   \n",
       "\n",
       "                                                  review posted_year  \n",
       "6      A suitably punishing roguelike platformer.  Wi...         NaN  \n",
       "27                                         ZIKA DO BAILE         NaN  \n",
       "28                         BEST GAME IN THE BLOODY WORLD         NaN  \n",
       "31                                               love it         NaN  \n",
       "32                                                mt bom         NaN  \n",
       "...                                                  ...         ...  \n",
       "59328  a must have classic from steam definitely wort...         NaN  \n",
       "59329  this game is a perfect remake of the original ...         NaN  \n",
       "59330  had so much fun plaing this and collecting res...         NaN  \n",
       "59331                                                 :D         NaN  \n",
       "59332                                     so much fun :D         NaN  \n",
       "\n",
       "[9933 rows x 6 columns]"
      ]
     },
     "execution_count": 234,
     "metadata": {},
     "output_type": "execute_result"
    }
   ],
   "source": [
    "df_reviews[df_reviews[\"posted_year\"].isna()]"
   ]
  },
  {
   "cell_type": "code",
   "execution_count": 235,
   "metadata": {},
   "outputs": [
    {
     "data": {
      "text/plain": [
       "(58431, 6)"
      ]
     },
     "execution_count": 235,
     "metadata": {},
     "output_type": "execute_result"
    }
   ],
   "source": [
    "df_reviews.shape"
   ]
  },
  {
   "cell_type": "markdown",
   "metadata": {},
   "source": [
    "Unimos el DataFrame al de juegos, para reemplazar los valores nulos con el año de lanzamiento:"
   ]
  },
  {
   "cell_type": "code",
   "execution_count": 266,
   "metadata": {},
   "outputs": [],
   "source": [
    "# Unimos los DataFrames\n",
    "df_reviews_merged = pd.merge(df_reviews, df_steam_games, on = \"item_id\", how= \"inner\")"
   ]
  },
  {
   "cell_type": "code",
   "execution_count": 267,
   "metadata": {},
   "outputs": [],
   "source": [
    "# Reemplazamos valores nulos:\n",
    "df_reviews_merged[\"posted_year\"].fillna(df_reviews_merged[\"release_year\"], inplace = True)"
   ]
  },
  {
   "cell_type": "code",
   "execution_count": 268,
   "metadata": {},
   "outputs": [
    {
     "data": {
      "text/plain": [
       "user_id                   0\n",
       "posted                    0\n",
       "item_id                   0\n",
       "recommend                 0\n",
       "review                    0\n",
       "posted_year               0\n",
       "app_name                  0\n",
       "title                     0\n",
       "price                     0\n",
       "developer                 0\n",
       "release_year              0\n",
       "Action                    0\n",
       "Adventure                 0\n",
       "Animation and Modeling    0\n",
       "Audio Production          0\n",
       "Casual                    0\n",
       "Design and llustration    0\n",
       "Early Access              0\n",
       "Education                 0\n",
       "Free to Play              0\n",
       "Indie                     0\n",
       "Massively Multiplayer     0\n",
       "Photo Editing             0\n",
       "RPG                       0\n",
       "Racing                    0\n",
       "Simulation                0\n",
       "Software Training         0\n",
       "Sports                    0\n",
       "Strategy                  0\n",
       "Utilities                 0\n",
       "Video Production          0\n",
       "Web Publishing            0\n",
       "dtype: int64"
      ]
     },
     "execution_count": 268,
     "metadata": {},
     "output_type": "execute_result"
    }
   ],
   "source": [
    "df_reviews_merged.isnull().sum()"
   ]
  },
  {
   "cell_type": "code",
   "execution_count": 269,
   "metadata": {},
   "outputs": [],
   "source": [
    "# Descartamos las columnas que no necesitamos:\n",
    "df_reviews_merged = df_reviews_merged.drop(columns=['app_name', 'title', 'price', 'developer', 'release_year', 'Action',\n",
    "       'Adventure', 'Animation and Modeling', 'Audio Production', 'Casual',\n",
    "       'Design and llustration', 'Early Access', 'Education', 'Free to Play',\n",
    "       'Indie', 'Massively Multiplayer', 'Photo Editing', 'RPG', 'Racing',\n",
    "       'Simulation', 'Software Training', 'Sports', 'Strategy', 'Utilities',\n",
    "       'Video Production', 'Web Publishing'])"
   ]
  },
  {
   "cell_type": "code",
   "execution_count": 270,
   "metadata": {},
   "outputs": [],
   "source": [
    "# Eliminamos duplicados:\n",
    "df_reviews_merged = df_reviews_merged.drop_duplicates()"
   ]
  },
  {
   "cell_type": "code",
   "execution_count": 271,
   "metadata": {},
   "outputs": [
    {
     "data": {
      "text/html": [
       "<div>\n",
       "<style scoped>\n",
       "    .dataframe tbody tr th:only-of-type {\n",
       "        vertical-align: middle;\n",
       "    }\n",
       "\n",
       "    .dataframe tbody tr th {\n",
       "        vertical-align: top;\n",
       "    }\n",
       "\n",
       "    .dataframe thead th {\n",
       "        text-align: right;\n",
       "    }\n",
       "</style>\n",
       "<table border=\"1\" class=\"dataframe\">\n",
       "  <thead>\n",
       "    <tr style=\"text-align: right;\">\n",
       "      <th></th>\n",
       "      <th>user_id</th>\n",
       "      <th>item_id</th>\n",
       "      <th>recommend</th>\n",
       "      <th>review</th>\n",
       "      <th>posted_year</th>\n",
       "    </tr>\n",
       "  </thead>\n",
       "  <tbody>\n",
       "    <tr>\n",
       "      <th>0</th>\n",
       "      <td>76561197970982479</td>\n",
       "      <td>1250</td>\n",
       "      <td>1</td>\n",
       "      <td>Simple yet with great replayability. In my opi...</td>\n",
       "      <td>2011</td>\n",
       "    </tr>\n",
       "    <tr>\n",
       "      <th>1</th>\n",
       "      <td>death-hunter</td>\n",
       "      <td>1250</td>\n",
       "      <td>1</td>\n",
       "      <td>Amazing, Non-stop action of blowing stuff to b...</td>\n",
       "      <td>2015</td>\n",
       "    </tr>\n",
       "    <tr>\n",
       "      <th>2</th>\n",
       "      <td>DJKamBer</td>\n",
       "      <td>1250</td>\n",
       "      <td>1</td>\n",
       "      <td>Compared to Left 4 Dead 2, this game REALLY gi...</td>\n",
       "      <td>2013</td>\n",
       "    </tr>\n",
       "    <tr>\n",
       "      <th>3</th>\n",
       "      <td>diego9031</td>\n",
       "      <td>1250</td>\n",
       "      <td>1</td>\n",
       "      <td>Jogo ♥♥♥♥.</td>\n",
       "      <td>2015</td>\n",
       "    </tr>\n",
       "    <tr>\n",
       "      <th>4</th>\n",
       "      <td>76561198081962345</td>\n",
       "      <td>1250</td>\n",
       "      <td>1</td>\n",
       "      <td>cara nas imagens esse jogo da pouco de medo ma...</td>\n",
       "      <td>2014</td>\n",
       "    </tr>\n",
       "  </tbody>\n",
       "</table>\n",
       "</div>"
      ],
      "text/plain": [
       "             user_id item_id  recommend  \\\n",
       "0  76561197970982479    1250          1   \n",
       "1       death-hunter    1250          1   \n",
       "2           DJKamBer    1250          1   \n",
       "3          diego9031    1250          1   \n",
       "4  76561198081962345    1250          1   \n",
       "\n",
       "                                              review posted_year  \n",
       "0  Simple yet with great replayability. In my opi...        2011  \n",
       "1  Amazing, Non-stop action of blowing stuff to b...        2015  \n",
       "2  Compared to Left 4 Dead 2, this game REALLY gi...        2013  \n",
       "3                                         Jogo ♥♥♥♥.        2015  \n",
       "4  cara nas imagens esse jogo da pouco de medo ma...        2014  "
      ]
     },
     "execution_count": 271,
     "metadata": {},
     "output_type": "execute_result"
    }
   ],
   "source": [
    "# Se elimina la columna \"posted\" original:\n",
    "df_reviews_merged = df_reviews_merged.drop(columns=\"posted\")\n",
    "df_reviews_merged.head()"
   ]
  },
  {
   "cell_type": "markdown",
   "metadata": {},
   "source": [
    "Se observa que la columna \"recommend\" posee valores booleanos, por lo que los mismos se reemplazan por valores numéricos:"
   ]
  },
  {
   "cell_type": "code",
   "execution_count": 272,
   "metadata": {},
   "outputs": [
    {
     "data": {
      "text/plain": [
       "recommend\n",
       "1    43262\n",
       "0     5077\n",
       "Name: count, dtype: int64"
      ]
     },
     "execution_count": 272,
     "metadata": {},
     "output_type": "execute_result"
    }
   ],
   "source": [
    "df_reviews_merged['recommend'].value_counts()"
   ]
  },
  {
   "cell_type": "code",
   "execution_count": 273,
   "metadata": {},
   "outputs": [
    {
     "data": {
      "text/plain": [
       "recommend\n",
       "1    43262\n",
       "0     5077\n",
       "Name: count, dtype: int64"
      ]
     },
     "execution_count": 273,
     "metadata": {},
     "output_type": "execute_result"
    }
   ],
   "source": [
    "# Se importa el label encoder y se instancia el objeto:\n",
    "from sklearn import preprocessing\n",
    "le = preprocessing.LabelEncoder()\n",
    "\n",
    "# Se actualiza la columna codificada al df:\n",
    "df_reviews_merged['recommend'] = le.fit_transform(df_reviews_merged['recommend'])\n",
    "\n",
    "# Se controla que la cantidad de valores coincida:\n",
    "df_reviews_merged['recommend'].value_counts()"
   ]
  },
  {
   "cell_type": "markdown",
   "metadata": {},
   "source": [
    "Por último, se buscará reemplazar a la columna \"review\" por la columna \"sentiment_analysis\" aplicando análisis de sentimiento con NLP y respetando la siguiente escala: <br>\n",
    "\n",
    "    - Si la review es mala, debe tomar el valor '0'.\n",
    "    - Si la review es neutral, debe tomar el valor '1'.\n",
    "    - Si la review es positiva, debe tomar el valor '2'.\n",
    "    - En caso de ausencia de review, debe tomarl el valor '1'."
   ]
  },
  {
   "cell_type": "code",
   "execution_count": 274,
   "metadata": {},
   "outputs": [],
   "source": [
    "# En primer lugar, se importan las herramientas que nos ayudarán en la tarea:\n",
    "from nltk.sentiment.vader import SentimentIntensityAnalyzer\n",
    "from nltk.tokenize import sent_tokenize, word_tokenize\n",
    "from nltk.stem.wordnet import WordNetLemmatizer\n",
    "#nltk.download('vader_lexicon')"
   ]
  },
  {
   "cell_type": "markdown",
   "metadata": {},
   "source": [
    "Luego se crea una función que nos devolverá las clasificaciones mencionadas anteriormente, en función al score obtenido por el algoritmo SentimentIntensityAnalyzer() de la biblioteca nltk:"
   ]
  },
  {
   "cell_type": "code",
   "execution_count": 275,
   "metadata": {},
   "outputs": [],
   "source": [
    "def classify_sentiment(text):\n",
    "    analyzer = SentimentIntensityAnalyzer()         # se instancia el algoritmo\n",
    "    if pd.isnull(text) or text == '':               # si la celda es nula o el texto es una cadena vacía\n",
    "        return 1\n",
    "    elif isinstance(text, str):                         # sino, si se trata de una cadena de texto válida\n",
    "        sentiment = analyzer.polarity_scores(text)      # se obtienen los scores de sentimiento\n",
    "        compound_score = sentiment['compound']          # se selecciona el score \"compound\"\n",
    "\n",
    "        # Se califica el texto en función al score obtenido anteriormente\n",
    "        if compound_score >= 0.05:\n",
    "            return 2\n",
    "        elif compound_score <= (-0.05):\n",
    "            return 0\n",
    "        else:\n",
    "            return 1\n"
   ]
  },
  {
   "cell_type": "code",
   "execution_count": 277,
   "metadata": {},
   "outputs": [
    {
     "data": {
      "text/html": [
       "<div>\n",
       "<style scoped>\n",
       "    .dataframe tbody tr th:only-of-type {\n",
       "        vertical-align: middle;\n",
       "    }\n",
       "\n",
       "    .dataframe tbody tr th {\n",
       "        vertical-align: top;\n",
       "    }\n",
       "\n",
       "    .dataframe thead th {\n",
       "        text-align: right;\n",
       "    }\n",
       "</style>\n",
       "<table border=\"1\" class=\"dataframe\">\n",
       "  <thead>\n",
       "    <tr style=\"text-align: right;\">\n",
       "      <th></th>\n",
       "      <th>user_id</th>\n",
       "      <th>item_id</th>\n",
       "      <th>recommend</th>\n",
       "      <th>review</th>\n",
       "      <th>posted_year</th>\n",
       "      <th>sentiment_analysis</th>\n",
       "    </tr>\n",
       "  </thead>\n",
       "  <tbody>\n",
       "    <tr>\n",
       "      <th>0</th>\n",
       "      <td>76561197970982479</td>\n",
       "      <td>1250</td>\n",
       "      <td>1</td>\n",
       "      <td>Simple yet with great replayability. In my opi...</td>\n",
       "      <td>2011</td>\n",
       "      <td>2</td>\n",
       "    </tr>\n",
       "    <tr>\n",
       "      <th>1</th>\n",
       "      <td>death-hunter</td>\n",
       "      <td>1250</td>\n",
       "      <td>1</td>\n",
       "      <td>Amazing, Non-stop action of blowing stuff to b...</td>\n",
       "      <td>2015</td>\n",
       "      <td>2</td>\n",
       "    </tr>\n",
       "    <tr>\n",
       "      <th>2</th>\n",
       "      <td>DJKamBer</td>\n",
       "      <td>1250</td>\n",
       "      <td>1</td>\n",
       "      <td>Compared to Left 4 Dead 2, this game REALLY gi...</td>\n",
       "      <td>2013</td>\n",
       "      <td>0</td>\n",
       "    </tr>\n",
       "    <tr>\n",
       "      <th>3</th>\n",
       "      <td>diego9031</td>\n",
       "      <td>1250</td>\n",
       "      <td>1</td>\n",
       "      <td>Jogo ♥♥♥♥.</td>\n",
       "      <td>2015</td>\n",
       "      <td>1</td>\n",
       "    </tr>\n",
       "    <tr>\n",
       "      <th>4</th>\n",
       "      <td>76561198081962345</td>\n",
       "      <td>1250</td>\n",
       "      <td>1</td>\n",
       "      <td>cara nas imagens esse jogo da pouco de medo ma...</td>\n",
       "      <td>2014</td>\n",
       "      <td>1</td>\n",
       "    </tr>\n",
       "  </tbody>\n",
       "</table>\n",
       "</div>"
      ],
      "text/plain": [
       "             user_id item_id  recommend  \\\n",
       "0  76561197970982479    1250          1   \n",
       "1       death-hunter    1250          1   \n",
       "2           DJKamBer    1250          1   \n",
       "3          diego9031    1250          1   \n",
       "4  76561198081962345    1250          1   \n",
       "\n",
       "                                              review posted_year  \\\n",
       "0  Simple yet with great replayability. In my opi...        2011   \n",
       "1  Amazing, Non-stop action of blowing stuff to b...        2015   \n",
       "2  Compared to Left 4 Dead 2, this game REALLY gi...        2013   \n",
       "3                                         Jogo ♥♥♥♥.        2015   \n",
       "4  cara nas imagens esse jogo da pouco de medo ma...        2014   \n",
       "\n",
       "   sentiment_analysis  \n",
       "0                   2  \n",
       "1                   2  \n",
       "2                   0  \n",
       "3                   1  \n",
       "4                   1  "
      ]
     },
     "execution_count": 277,
     "metadata": {},
     "output_type": "execute_result"
    }
   ],
   "source": [
    "# Se aplica la funcion creada anteriormente\n",
    "df_reviews_merged['sentiment_analysis'] = df_reviews_merged[\"review\"].apply(classify_sentiment)\n",
    "df_reviews_merged.head()"
   ]
  },
  {
   "cell_type": "code",
   "execution_count": 278,
   "metadata": {},
   "outputs": [
    {
     "data": {
      "text/plain": [
       "sentiment_analysis\n",
       "2    30765\n",
       "1     9838\n",
       "0     7736\n",
       "Name: count, dtype: int64"
      ]
     },
     "execution_count": 278,
     "metadata": {},
     "output_type": "execute_result"
    }
   ],
   "source": [
    "# Se controlan los valores para cada uno de las clasificaciones:\n",
    "df_reviews_merged['sentiment_analysis'].value_counts()"
   ]
  },
  {
   "cell_type": "markdown",
   "metadata": {},
   "source": [
    "Se eliminan las columnas que ya no vamos a utilizar:"
   ]
  },
  {
   "cell_type": "code",
   "execution_count": 279,
   "metadata": {},
   "outputs": [],
   "source": [
    "df_reviews_merged= df_reviews_merged.drop(columns=[\"review\"])"
   ]
  },
  {
   "cell_type": "markdown",
   "metadata": {},
   "source": [
    "Se realiza un chequeo final de las tipologías de datos:"
   ]
  },
  {
   "cell_type": "code",
   "execution_count": 282,
   "metadata": {},
   "outputs": [
    {
     "name": "stdout",
     "output_type": "stream",
     "text": [
      "<class 'pandas.core.frame.DataFrame'>\n",
      "Index: 48339 entries, 0 to 120669\n",
      "Data columns (total 5 columns):\n",
      " #   Column              Non-Null Count  Dtype \n",
      "---  ------              --------------  ----- \n",
      " 0   user_id             48339 non-null  object\n",
      " 1   item_id             48339 non-null  object\n",
      " 2   recommend           48339 non-null  int64 \n",
      " 3   posted_year         48339 non-null  int32 \n",
      " 4   sentiment_analysis  48339 non-null  int64 \n",
      "dtypes: int32(1), int64(2), object(2)\n",
      "memory usage: 2.0+ MB\n"
     ]
    }
   ],
   "source": [
    "df_reviews_merged.info()"
   ]
  },
  {
   "cell_type": "code",
   "execution_count": 281,
   "metadata": {},
   "outputs": [],
   "source": [
    "# Se cambia el tipo de dato de la columna \"posted_year\"\n",
    "df_reviews_merged[\"posted_year\"] = df_reviews_merged[\"posted_year\"].astype(int)"
   ]
  },
  {
   "cell_type": "markdown",
   "metadata": {},
   "source": [
    "Por último, se exporta el DataFrame a un archivo parquet:"
   ]
  },
  {
   "cell_type": "code",
   "execution_count": 283,
   "metadata": {},
   "outputs": [],
   "source": [
    "#df_reviews_merged.to_csv('user_reviews.csv', index=False)"
   ]
  },
  {
   "cell_type": "code",
   "execution_count": null,
   "metadata": {},
   "outputs": [],
   "source": [
    "df_reviews_merged.to_parquet('user_reviews.parquet', engine=\"pyarrow\")"
   ]
  },
  {
   "cell_type": "markdown",
   "metadata": {},
   "source": [
    "## User items:"
   ]
  },
  {
   "cell_type": "markdown",
   "metadata": {},
   "source": [
    "En primer lugar, se cargan los datos en un Dataframe de Pandas:"
   ]
  },
  {
   "cell_type": "code",
   "execution_count": 1,
   "metadata": {},
   "outputs": [
    {
     "ename": "NameError",
     "evalue": "name 'cargar_df' is not defined",
     "output_type": "error",
     "traceback": [
      "\u001b[1;31m---------------------------------------------------------------------------\u001b[0m",
      "\u001b[1;31mNameError\u001b[0m                                 Traceback (most recent call last)",
      "\u001b[1;32mc:\\Users\\Javi Dichiachio\\Desktop\\Data Science Henry\\LABS\\PI_01\\ETL.ipynb Cell 100\u001b[0m line \u001b[0;36m1\n\u001b[1;32m----> <a href='vscode-notebook-cell:/c%3A/Users/Javi%20Dichiachio/Desktop/Data%20Science%20Henry/LABS/PI_01/ETL.ipynb#Y201sZmlsZQ%3D%3D?line=0'>1</a>\u001b[0m df_items \u001b[39m=\u001b[39m cargar_df(\u001b[39mr\u001b[39m\u001b[39m'\u001b[39m\u001b[39mDatasets\u001b[39m\u001b[39m\\\u001b[39m\u001b[39maustralian_users_items.json\u001b[39m\u001b[39m'\u001b[39m, \u001b[39m\"\u001b[39m\u001b[39mitems\u001b[39m\u001b[39m\"\u001b[39m)\n\u001b[0;32m      <a href='vscode-notebook-cell:/c%3A/Users/Javi%20Dichiachio/Desktop/Data%20Science%20Henry/LABS/PI_01/ETL.ipynb#Y201sZmlsZQ%3D%3D?line=1'>2</a>\u001b[0m df_items\u001b[39m.\u001b[39mhead()\n",
      "\u001b[1;31mNameError\u001b[0m: name 'cargar_df' is not defined"
     ]
    }
   ],
   "source": [
    "# DATASET EXPANDIDO\n",
    "#df_items = cargar_df(r'Datasets\\australian_users_items.json', \"items\")\n",
    "#df_items.head()"
   ]
  },
  {
   "cell_type": "code",
   "execution_count": 5,
   "metadata": {},
   "outputs": [],
   "source": [
    "rows = []\n",
    "with open('australian_users_items.json', 'r', encoding='utf-8') as file:       # se lee el archivo iterando fila por fila y agregando a lista vacia\n",
    "    for line in file:\n",
    "        rows.append(ast.literal_eval(line)) \n",
    "\n",
    "df = pd.DataFrame(rows)                             # se carga la info en un df de \n"
   ]
  },
  {
   "cell_type": "code",
   "execution_count": 6,
   "metadata": {},
   "outputs": [],
   "source": [
    "# Se crea una copia del dataset para poder realizar las modificaciones que sean necesarias:\n",
    "user_items = df.copy()"
   ]
  },
  {
   "cell_type": "code",
   "execution_count": 7,
   "metadata": {},
   "outputs": [
    {
     "data": {
      "text/html": [
       "<div>\n",
       "<style scoped>\n",
       "    .dataframe tbody tr th:only-of-type {\n",
       "        vertical-align: middle;\n",
       "    }\n",
       "\n",
       "    .dataframe tbody tr th {\n",
       "        vertical-align: top;\n",
       "    }\n",
       "\n",
       "    .dataframe thead th {\n",
       "        text-align: right;\n",
       "    }\n",
       "</style>\n",
       "<table border=\"1\" class=\"dataframe\">\n",
       "  <thead>\n",
       "    <tr style=\"text-align: right;\">\n",
       "      <th></th>\n",
       "      <th>user_id</th>\n",
       "      <th>items_count</th>\n",
       "      <th>steam_id</th>\n",
       "      <th>user_url</th>\n",
       "      <th>items</th>\n",
       "    </tr>\n",
       "  </thead>\n",
       "  <tbody>\n",
       "    <tr>\n",
       "      <th>88305</th>\n",
       "      <td>76561198323066619</td>\n",
       "      <td>22</td>\n",
       "      <td>76561198323066619</td>\n",
       "      <td>http://steamcommunity.com/profiles/76561198323...</td>\n",
       "      <td>[{'item_id': '413850', 'item_name': 'CS:GO Pla...</td>\n",
       "    </tr>\n",
       "    <tr>\n",
       "      <th>88306</th>\n",
       "      <td>76561198326700687</td>\n",
       "      <td>177</td>\n",
       "      <td>76561198326700687</td>\n",
       "      <td>http://steamcommunity.com/profiles/76561198326...</td>\n",
       "      <td>[{'item_id': '11020', 'item_name': 'TrackMania...</td>\n",
       "    </tr>\n",
       "    <tr>\n",
       "      <th>88307</th>\n",
       "      <td>XxLaughingJackClown77xX</td>\n",
       "      <td>0</td>\n",
       "      <td>76561198328759259</td>\n",
       "      <td>http://steamcommunity.com/id/XxLaughingJackClo...</td>\n",
       "      <td>[]</td>\n",
       "    </tr>\n",
       "    <tr>\n",
       "      <th>88308</th>\n",
       "      <td>76561198329548331</td>\n",
       "      <td>7</td>\n",
       "      <td>76561198329548331</td>\n",
       "      <td>http://steamcommunity.com/profiles/76561198329...</td>\n",
       "      <td>[{'item_id': '304930', 'item_name': 'Unturned'...</td>\n",
       "    </tr>\n",
       "    <tr>\n",
       "      <th>88309</th>\n",
       "      <td>edward_tremethick</td>\n",
       "      <td>0</td>\n",
       "      <td>76561198331598578</td>\n",
       "      <td>http://steamcommunity.com/id/edward_tremethick</td>\n",
       "      <td>[]</td>\n",
       "    </tr>\n",
       "  </tbody>\n",
       "</table>\n",
       "</div>"
      ],
      "text/plain": [
       "                       user_id  items_count           steam_id  \\\n",
       "88305        76561198323066619           22  76561198323066619   \n",
       "88306        76561198326700687          177  76561198326700687   \n",
       "88307  XxLaughingJackClown77xX            0  76561198328759259   \n",
       "88308        76561198329548331            7  76561198329548331   \n",
       "88309        edward_tremethick            0  76561198331598578   \n",
       "\n",
       "                                                user_url  \\\n",
       "88305  http://steamcommunity.com/profiles/76561198323...   \n",
       "88306  http://steamcommunity.com/profiles/76561198326...   \n",
       "88307  http://steamcommunity.com/id/XxLaughingJackClo...   \n",
       "88308  http://steamcommunity.com/profiles/76561198329...   \n",
       "88309     http://steamcommunity.com/id/edward_tremethick   \n",
       "\n",
       "                                                   items  \n",
       "88305  [{'item_id': '413850', 'item_name': 'CS:GO Pla...  \n",
       "88306  [{'item_id': '11020', 'item_name': 'TrackMania...  \n",
       "88307                                                 []  \n",
       "88308  [{'item_id': '304930', 'item_name': 'Unturned'...  \n",
       "88309                                                 []  "
      ]
     },
     "execution_count": 7,
     "metadata": {},
     "output_type": "execute_result"
    }
   ],
   "source": [
    "user_items.tail()"
   ]
  },
  {
   "cell_type": "markdown",
   "metadata": {},
   "source": [
    "Se analiza la información contenida en el DataFrame:"
   ]
  },
  {
   "cell_type": "code",
   "execution_count": 8,
   "metadata": {},
   "outputs": [
    {
     "data": {
      "text/plain": [
       "(88310, 5)"
      ]
     },
     "execution_count": 8,
     "metadata": {},
     "output_type": "execute_result"
    }
   ],
   "source": [
    "user_items.shape"
   ]
  },
  {
   "cell_type": "code",
   "execution_count": 9,
   "metadata": {},
   "outputs": [
    {
     "name": "stdout",
     "output_type": "stream",
     "text": [
      "<class 'pandas.core.frame.DataFrame'>\n",
      "RangeIndex: 88310 entries, 0 to 88309\n",
      "Data columns (total 5 columns):\n",
      " #   Column       Non-Null Count  Dtype \n",
      "---  ------       --------------  ----- \n",
      " 0   user_id      88310 non-null  object\n",
      " 1   items_count  88310 non-null  int64 \n",
      " 2   steam_id     88310 non-null  object\n",
      " 3   user_url     88310 non-null  object\n",
      " 4   items        88310 non-null  object\n",
      "dtypes: int64(1), object(4)\n",
      "memory usage: 3.4+ MB\n"
     ]
    }
   ],
   "source": [
    "user_items.info()"
   ]
  },
  {
   "cell_type": "markdown",
   "metadata": {},
   "source": [
    "Se cuenta la cantidad de valores nulos:"
   ]
  },
  {
   "cell_type": "code",
   "execution_count": 10,
   "metadata": {},
   "outputs": [
    {
     "data": {
      "text/plain": [
       "user_id        0\n",
       "items_count    0\n",
       "steam_id       0\n",
       "user_url       0\n",
       "items          0\n",
       "dtype: int64"
      ]
     },
     "execution_count": 10,
     "metadata": {},
     "output_type": "execute_result"
    }
   ],
   "source": [
    "user_items.isnull().sum()"
   ]
  },
  {
   "cell_type": "code",
   "execution_count": null,
   "metadata": {},
   "outputs": [
    {
     "data": {
      "text/html": [
       "<div>\n",
       "<style scoped>\n",
       "    .dataframe tbody tr th:only-of-type {\n",
       "        vertical-align: middle;\n",
       "    }\n",
       "\n",
       "    .dataframe tbody tr th {\n",
       "        vertical-align: top;\n",
       "    }\n",
       "\n",
       "    .dataframe thead th {\n",
       "        text-align: right;\n",
       "    }\n",
       "</style>\n",
       "<table border=\"1\" class=\"dataframe\">\n",
       "  <thead>\n",
       "    <tr style=\"text-align: right;\">\n",
       "      <th></th>\n",
       "      <th>user_id</th>\n",
       "      <th>items_count</th>\n",
       "      <th>steam_id</th>\n",
       "      <th>user_url</th>\n",
       "      <th>item_id</th>\n",
       "      <th>item_name</th>\n",
       "      <th>playtime_forever</th>\n",
       "      <th>playtime_2weeks</th>\n",
       "    </tr>\n",
       "  </thead>\n",
       "  <tbody>\n",
       "    <tr>\n",
       "      <th>3733</th>\n",
       "      <td>Wackky</td>\n",
       "      <td>0</td>\n",
       "      <td>76561198039117046</td>\n",
       "      <td>http://steamcommunity.com/id/Wackky</td>\n",
       "      <td>NaN</td>\n",
       "      <td>NaN</td>\n",
       "      <td>NaN</td>\n",
       "      <td>NaN</td>\n",
       "    </tr>\n",
       "    <tr>\n",
       "      <th>3849</th>\n",
       "      <td>76561198079601835</td>\n",
       "      <td>0</td>\n",
       "      <td>76561198079601835</td>\n",
       "      <td>http://steamcommunity.com/profiles/76561198079...</td>\n",
       "      <td>NaN</td>\n",
       "      <td>NaN</td>\n",
       "      <td>NaN</td>\n",
       "      <td>NaN</td>\n",
       "    </tr>\n",
       "    <tr>\n",
       "      <th>6019</th>\n",
       "      <td>hellom8o</td>\n",
       "      <td>0</td>\n",
       "      <td>76561198117222320</td>\n",
       "      <td>http://steamcommunity.com/id/hellom8o</td>\n",
       "      <td>NaN</td>\n",
       "      <td>NaN</td>\n",
       "      <td>NaN</td>\n",
       "      <td>NaN</td>\n",
       "    </tr>\n",
       "    <tr>\n",
       "      <th>6523</th>\n",
       "      <td>starkillershadow553</td>\n",
       "      <td>0</td>\n",
       "      <td>76561198059648579</td>\n",
       "      <td>http://steamcommunity.com/id/starkillershadow553</td>\n",
       "      <td>NaN</td>\n",
       "      <td>NaN</td>\n",
       "      <td>NaN</td>\n",
       "      <td>NaN</td>\n",
       "    </tr>\n",
       "    <tr>\n",
       "      <th>7237</th>\n",
       "      <td>darkenkane</td>\n",
       "      <td>0</td>\n",
       "      <td>76561198058876001</td>\n",
       "      <td>http://steamcommunity.com/id/darkenkane</td>\n",
       "      <td>NaN</td>\n",
       "      <td>NaN</td>\n",
       "      <td>NaN</td>\n",
       "      <td>NaN</td>\n",
       "    </tr>\n",
       "    <tr>\n",
       "      <th>...</th>\n",
       "      <td>...</td>\n",
       "      <td>...</td>\n",
       "      <td>...</td>\n",
       "      <td>...</td>\n",
       "      <td>...</td>\n",
       "      <td>...</td>\n",
       "      <td>...</td>\n",
       "      <td>...</td>\n",
       "    </tr>\n",
       "    <tr>\n",
       "      <th>5169470</th>\n",
       "      <td>76561198316380182</td>\n",
       "      <td>0</td>\n",
       "      <td>76561198316380182</td>\n",
       "      <td>http://steamcommunity.com/profiles/76561198316...</td>\n",
       "      <td>NaN</td>\n",
       "      <td>NaN</td>\n",
       "      <td>NaN</td>\n",
       "      <td>NaN</td>\n",
       "    </tr>\n",
       "    <tr>\n",
       "      <th>5169471</th>\n",
       "      <td>76561198316970597</td>\n",
       "      <td>0</td>\n",
       "      <td>76561198316970597</td>\n",
       "      <td>http://steamcommunity.com/profiles/76561198316...</td>\n",
       "      <td>NaN</td>\n",
       "      <td>NaN</td>\n",
       "      <td>NaN</td>\n",
       "      <td>NaN</td>\n",
       "    </tr>\n",
       "    <tr>\n",
       "      <th>5169472</th>\n",
       "      <td>76561198318100691</td>\n",
       "      <td>0</td>\n",
       "      <td>76561198318100691</td>\n",
       "      <td>http://steamcommunity.com/profiles/76561198318...</td>\n",
       "      <td>NaN</td>\n",
       "      <td>NaN</td>\n",
       "      <td>NaN</td>\n",
       "      <td>NaN</td>\n",
       "    </tr>\n",
       "    <tr>\n",
       "      <th>5170006</th>\n",
       "      <td>XxLaughingJackClown77xX</td>\n",
       "      <td>0</td>\n",
       "      <td>76561198328759259</td>\n",
       "      <td>http://steamcommunity.com/id/XxLaughingJackClo...</td>\n",
       "      <td>NaN</td>\n",
       "      <td>NaN</td>\n",
       "      <td>NaN</td>\n",
       "      <td>NaN</td>\n",
       "    </tr>\n",
       "    <tr>\n",
       "      <th>5170014</th>\n",
       "      <td>edward_tremethick</td>\n",
       "      <td>0</td>\n",
       "      <td>76561198331598578</td>\n",
       "      <td>http://steamcommunity.com/id/edward_tremethick</td>\n",
       "      <td>NaN</td>\n",
       "      <td>NaN</td>\n",
       "      <td>NaN</td>\n",
       "      <td>NaN</td>\n",
       "    </tr>\n",
       "  </tbody>\n",
       "</table>\n",
       "<p>16806 rows × 8 columns</p>\n",
       "</div>"
      ],
      "text/plain": [
       "                         user_id  items_count           steam_id  \\\n",
       "3733                      Wackky            0  76561198039117046   \n",
       "3849           76561198079601835            0  76561198079601835   \n",
       "6019                    hellom8o            0  76561198117222320   \n",
       "6523         starkillershadow553            0  76561198059648579   \n",
       "7237                  darkenkane            0  76561198058876001   \n",
       "...                          ...          ...                ...   \n",
       "5169470        76561198316380182            0  76561198316380182   \n",
       "5169471        76561198316970597            0  76561198316970597   \n",
       "5169472        76561198318100691            0  76561198318100691   \n",
       "5170006  XxLaughingJackClown77xX            0  76561198328759259   \n",
       "5170014        edward_tremethick            0  76561198331598578   \n",
       "\n",
       "                                                  user_url item_id item_name  \\\n",
       "3733                   http://steamcommunity.com/id/Wackky     NaN       NaN   \n",
       "3849     http://steamcommunity.com/profiles/76561198079...     NaN       NaN   \n",
       "6019                 http://steamcommunity.com/id/hellom8o     NaN       NaN   \n",
       "6523      http://steamcommunity.com/id/starkillershadow553     NaN       NaN   \n",
       "7237               http://steamcommunity.com/id/darkenkane     NaN       NaN   \n",
       "...                                                    ...     ...       ...   \n",
       "5169470  http://steamcommunity.com/profiles/76561198316...     NaN       NaN   \n",
       "5169471  http://steamcommunity.com/profiles/76561198316...     NaN       NaN   \n",
       "5169472  http://steamcommunity.com/profiles/76561198318...     NaN       NaN   \n",
       "5170006  http://steamcommunity.com/id/XxLaughingJackClo...     NaN       NaN   \n",
       "5170014     http://steamcommunity.com/id/edward_tremethick     NaN       NaN   \n",
       "\n",
       "         playtime_forever  playtime_2weeks  \n",
       "3733                  NaN              NaN  \n",
       "3849                  NaN              NaN  \n",
       "6019                  NaN              NaN  \n",
       "6523                  NaN              NaN  \n",
       "7237                  NaN              NaN  \n",
       "...                   ...              ...  \n",
       "5169470               NaN              NaN  \n",
       "5169471               NaN              NaN  \n",
       "5169472               NaN              NaN  \n",
       "5170006               NaN              NaN  \n",
       "5170014               NaN              NaN  \n",
       "\n",
       "[16806 rows x 8 columns]"
      ]
     },
     "execution_count": 205,
     "metadata": {},
     "output_type": "execute_result"
    }
   ],
   "source": [
    "# Se chequean las filas con registros nulos, para ver si los eliminamos:\n",
    "user_items[user_items[\"item_id\"].isnull()]"
   ]
  },
  {
   "cell_type": "code",
   "execution_count": 11,
   "metadata": {},
   "outputs": [
    {
     "ename": "KeyError",
     "evalue": "['item_id']",
     "output_type": "error",
     "traceback": [
      "\u001b[1;31m---------------------------------------------------------------------------\u001b[0m",
      "\u001b[1;31mKeyError\u001b[0m                                  Traceback (most recent call last)",
      "\u001b[1;32m~\\AppData\\Local\\Temp\\ipykernel_11704\\4265159143.py\u001b[0m in \u001b[0;36m?\u001b[1;34m()\u001b[0m\n\u001b[0;32m      1\u001b[0m \u001b[1;31m# Se eliminan los valores nulos para el subset \"item_id\"\u001b[0m\u001b[1;33m\u001b[0m\u001b[1;33m\u001b[0m\u001b[0m\n\u001b[1;32m----> 2\u001b[1;33m \u001b[0muser_items\u001b[0m \u001b[1;33m=\u001b[0m \u001b[0muser_items\u001b[0m\u001b[1;33m.\u001b[0m\u001b[0mdropna\u001b[0m\u001b[1;33m(\u001b[0m\u001b[0msubset\u001b[0m\u001b[1;33m=\u001b[0m\u001b[1;34m\"item_id\"\u001b[0m\u001b[1;33m)\u001b[0m\u001b[1;33m.\u001b[0m\u001b[0mreset_index\u001b[0m\u001b[1;33m(\u001b[0m\u001b[1;33m)\u001b[0m\u001b[1;33m\u001b[0m\u001b[1;33m\u001b[0m\u001b[0m\n\u001b[0m\u001b[0;32m      3\u001b[0m \u001b[0muser_items\u001b[0m \u001b[1;33m=\u001b[0m \u001b[0muser_items\u001b[0m\u001b[1;33m.\u001b[0m\u001b[0mdrop\u001b[0m\u001b[1;33m(\u001b[0m\u001b[0mcolumns\u001b[0m\u001b[1;33m=\u001b[0m\u001b[1;34m\"index\"\u001b[0m\u001b[1;33m)\u001b[0m\u001b[1;33m\u001b[0m\u001b[1;33m\u001b[0m\u001b[0m\n\u001b[0;32m      4\u001b[0m \u001b[0muser_items\u001b[0m\u001b[1;33m.\u001b[0m\u001b[0mshape\u001b[0m\u001b[1;33m\u001b[0m\u001b[1;33m\u001b[0m\u001b[0m\n",
      "\u001b[1;32mc:\\Users\\Javi Dichiachio\\AppData\\Local\\Programs\\Python\\Python311\\Lib\\site-packages\\pandas\\core\\frame.py\u001b[0m in \u001b[0;36m?\u001b[1;34m(self, axis, how, thresh, subset, inplace, ignore_index)\u001b[0m\n\u001b[0;32m   6403\u001b[0m             \u001b[0max\u001b[0m \u001b[1;33m=\u001b[0m \u001b[0mself\u001b[0m\u001b[1;33m.\u001b[0m\u001b[0m_get_axis\u001b[0m\u001b[1;33m(\u001b[0m\u001b[0magg_axis\u001b[0m\u001b[1;33m)\u001b[0m\u001b[1;33m\u001b[0m\u001b[1;33m\u001b[0m\u001b[0m\n\u001b[0;32m   6404\u001b[0m             \u001b[0mindices\u001b[0m \u001b[1;33m=\u001b[0m \u001b[0max\u001b[0m\u001b[1;33m.\u001b[0m\u001b[0mget_indexer_for\u001b[0m\u001b[1;33m(\u001b[0m\u001b[0msubset\u001b[0m\u001b[1;33m)\u001b[0m\u001b[1;33m\u001b[0m\u001b[1;33m\u001b[0m\u001b[0m\n\u001b[0;32m   6405\u001b[0m             \u001b[0mcheck\u001b[0m \u001b[1;33m=\u001b[0m \u001b[0mindices\u001b[0m \u001b[1;33m==\u001b[0m \u001b[1;33m-\u001b[0m\u001b[1;36m1\u001b[0m\u001b[1;33m\u001b[0m\u001b[1;33m\u001b[0m\u001b[0m\n\u001b[0;32m   6406\u001b[0m             \u001b[1;32mif\u001b[0m \u001b[0mcheck\u001b[0m\u001b[1;33m.\u001b[0m\u001b[0many\u001b[0m\u001b[1;33m(\u001b[0m\u001b[1;33m)\u001b[0m\u001b[1;33m:\u001b[0m\u001b[1;33m\u001b[0m\u001b[1;33m\u001b[0m\u001b[0m\n\u001b[1;32m-> 6407\u001b[1;33m                 \u001b[1;32mraise\u001b[0m \u001b[0mKeyError\u001b[0m\u001b[1;33m(\u001b[0m\u001b[0mnp\u001b[0m\u001b[1;33m.\u001b[0m\u001b[0marray\u001b[0m\u001b[1;33m(\u001b[0m\u001b[0msubset\u001b[0m\u001b[1;33m)\u001b[0m\u001b[1;33m[\u001b[0m\u001b[0mcheck\u001b[0m\u001b[1;33m]\u001b[0m\u001b[1;33m.\u001b[0m\u001b[0mtolist\u001b[0m\u001b[1;33m(\u001b[0m\u001b[1;33m)\u001b[0m\u001b[1;33m)\u001b[0m\u001b[1;33m\u001b[0m\u001b[1;33m\u001b[0m\u001b[0m\n\u001b[0m\u001b[0;32m   6408\u001b[0m             \u001b[0magg_obj\u001b[0m \u001b[1;33m=\u001b[0m \u001b[0mself\u001b[0m\u001b[1;33m.\u001b[0m\u001b[0mtake\u001b[0m\u001b[1;33m(\u001b[0m\u001b[0mindices\u001b[0m\u001b[1;33m,\u001b[0m \u001b[0maxis\u001b[0m\u001b[1;33m=\u001b[0m\u001b[0magg_axis\u001b[0m\u001b[1;33m)\u001b[0m\u001b[1;33m\u001b[0m\u001b[1;33m\u001b[0m\u001b[0m\n\u001b[0;32m   6409\u001b[0m \u001b[1;33m\u001b[0m\u001b[0m\n\u001b[0;32m   6410\u001b[0m         \u001b[1;32mif\u001b[0m \u001b[0mthresh\u001b[0m \u001b[1;32mis\u001b[0m \u001b[1;32mnot\u001b[0m \u001b[0mno_default\u001b[0m\u001b[1;33m:\u001b[0m\u001b[1;33m\u001b[0m\u001b[1;33m\u001b[0m\u001b[0m\n",
      "\u001b[1;31mKeyError\u001b[0m: ['item_id']"
     ]
    }
   ],
   "source": [
    "# Se eliminan los valores nulos para el subset \"item_id\"\n",
    "user_items = user_items.dropna(subset=\"item_id\").reset_index()\n",
    "user_items = user_items.drop(columns=\"index\")\n",
    "user_items.shape"
   ]
  },
  {
   "cell_type": "markdown",
   "metadata": {},
   "source": [
    "Se eliminan las columnas que no se utilizarán en el análisis:"
   ]
  },
  {
   "cell_type": "code",
   "execution_count": 12,
   "metadata": {},
   "outputs": [],
   "source": [
    "user_items = user_items.dropna()"
   ]
  },
  {
   "cell_type": "code",
   "execution_count": 13,
   "metadata": {},
   "outputs": [
    {
     "data": {
      "text/plain": [
       "(88310, 3)"
      ]
     },
     "execution_count": 13,
     "metadata": {},
     "output_type": "execute_result"
    }
   ],
   "source": [
    "user_items = user_items.drop(columns=[\"user_url\",\"steam_id\"])\n",
    "user_items.shape"
   ]
  },
  {
   "cell_type": "markdown",
   "metadata": {},
   "source": [
    "Se controla si existen valores duplicados:"
   ]
  },
  {
   "cell_type": "code",
   "execution_count": 14,
   "metadata": {},
   "outputs": [
    {
     "ename": "TypeError",
     "evalue": "unhashable type: 'list'",
     "output_type": "error",
     "traceback": [
      "\u001b[1;31m---------------------------------------------------------------------------\u001b[0m",
      "\u001b[1;31mTypeError\u001b[0m                                 Traceback (most recent call last)",
      "\u001b[1;32mc:\\Users\\Javi Dichiachio\\Desktop\\Data Science Henry\\LABS\\PI_01\\ETL.ipynb Cell 117\u001b[0m line \u001b[0;36m1\n\u001b[1;32m----> <a href='vscode-notebook-cell:/c%3A/Users/Javi%20Dichiachio/Desktop/Data%20Science%20Henry/LABS/PI_01/ETL.ipynb#Y220sZmlsZQ%3D%3D?line=0'>1</a>\u001b[0m user_items\u001b[39m.\u001b[39;49mduplicated()\u001b[39m.\u001b[39msum()\n",
      "File \u001b[1;32mc:\\Users\\Javi Dichiachio\\AppData\\Local\\Programs\\Python\\Python311\\Lib\\site-packages\\pandas\\core\\frame.py:6662\u001b[0m, in \u001b[0;36mDataFrame.duplicated\u001b[1;34m(self, subset, keep)\u001b[0m\n\u001b[0;32m   6660\u001b[0m \u001b[39melse\u001b[39;00m:\n\u001b[0;32m   6661\u001b[0m     vals \u001b[39m=\u001b[39m (col\u001b[39m.\u001b[39mvalues \u001b[39mfor\u001b[39;00m name, col \u001b[39min\u001b[39;00m \u001b[39mself\u001b[39m\u001b[39m.\u001b[39mitems() \u001b[39mif\u001b[39;00m name \u001b[39min\u001b[39;00m subset)\n\u001b[1;32m-> 6662\u001b[0m     labels, shape \u001b[39m=\u001b[39m \u001b[39mmap\u001b[39m(\u001b[39mlist\u001b[39m, \u001b[39mzip\u001b[39;49m(\u001b[39m*\u001b[39;49m\u001b[39mmap\u001b[39;49m(f, vals)))\n\u001b[0;32m   6664\u001b[0m     ids \u001b[39m=\u001b[39m get_group_index(\n\u001b[0;32m   6665\u001b[0m         labels,\n\u001b[0;32m   6666\u001b[0m         \u001b[39m# error: Argument 1 to \"tuple\" has incompatible type \"List[_T]\";\u001b[39;00m\n\u001b[1;32m   (...)\u001b[0m\n\u001b[0;32m   6670\u001b[0m         xnull\u001b[39m=\u001b[39m\u001b[39mFalse\u001b[39;00m,\n\u001b[0;32m   6671\u001b[0m     )\n\u001b[0;32m   6672\u001b[0m     result \u001b[39m=\u001b[39m \u001b[39mself\u001b[39m\u001b[39m.\u001b[39m_constructor_sliced(duplicated(ids, keep), index\u001b[39m=\u001b[39m\u001b[39mself\u001b[39m\u001b[39m.\u001b[39mindex)\n",
      "File \u001b[1;32mc:\\Users\\Javi Dichiachio\\AppData\\Local\\Programs\\Python\\Python311\\Lib\\site-packages\\pandas\\core\\frame.py:6630\u001b[0m, in \u001b[0;36mDataFrame.duplicated.<locals>.f\u001b[1;34m(vals)\u001b[0m\n\u001b[0;32m   6629\u001b[0m \u001b[39mdef\u001b[39;00m \u001b[39mf\u001b[39m(vals) \u001b[39m-\u001b[39m\u001b[39m>\u001b[39m \u001b[39mtuple\u001b[39m[np\u001b[39m.\u001b[39mndarray, \u001b[39mint\u001b[39m]:\n\u001b[1;32m-> 6630\u001b[0m     labels, shape \u001b[39m=\u001b[39m algorithms\u001b[39m.\u001b[39;49mfactorize(vals, size_hint\u001b[39m=\u001b[39;49m\u001b[39mlen\u001b[39;49m(\u001b[39mself\u001b[39;49m))\n\u001b[0;32m   6631\u001b[0m     \u001b[39mreturn\u001b[39;00m labels\u001b[39m.\u001b[39mastype(\u001b[39m\"\u001b[39m\u001b[39mi8\u001b[39m\u001b[39m\"\u001b[39m, copy\u001b[39m=\u001b[39m\u001b[39mFalse\u001b[39;00m), \u001b[39mlen\u001b[39m(shape)\n",
      "File \u001b[1;32mc:\\Users\\Javi Dichiachio\\AppData\\Local\\Programs\\Python\\Python311\\Lib\\site-packages\\pandas\\core\\algorithms.py:780\u001b[0m, in \u001b[0;36mfactorize\u001b[1;34m(values, sort, use_na_sentinel, size_hint)\u001b[0m\n\u001b[0;32m    777\u001b[0m             \u001b[39m# Don't modify (potentially user-provided) array\u001b[39;00m\n\u001b[0;32m    778\u001b[0m             values \u001b[39m=\u001b[39m np\u001b[39m.\u001b[39mwhere(null_mask, na_value, values)\n\u001b[1;32m--> 780\u001b[0m     codes, uniques \u001b[39m=\u001b[39m factorize_array(\n\u001b[0;32m    781\u001b[0m         values,\n\u001b[0;32m    782\u001b[0m         use_na_sentinel\u001b[39m=\u001b[39;49muse_na_sentinel,\n\u001b[0;32m    783\u001b[0m         size_hint\u001b[39m=\u001b[39;49msize_hint,\n\u001b[0;32m    784\u001b[0m     )\n\u001b[0;32m    786\u001b[0m \u001b[39mif\u001b[39;00m sort \u001b[39mand\u001b[39;00m \u001b[39mlen\u001b[39m(uniques) \u001b[39m>\u001b[39m \u001b[39m0\u001b[39m:\n\u001b[0;32m    787\u001b[0m     uniques, codes \u001b[39m=\u001b[39m safe_sort(\n\u001b[0;32m    788\u001b[0m         uniques,\n\u001b[0;32m    789\u001b[0m         codes,\n\u001b[1;32m   (...)\u001b[0m\n\u001b[0;32m    792\u001b[0m         verify\u001b[39m=\u001b[39m\u001b[39mFalse\u001b[39;00m,\n\u001b[0;32m    793\u001b[0m     )\n",
      "File \u001b[1;32mc:\\Users\\Javi Dichiachio\\AppData\\Local\\Programs\\Python\\Python311\\Lib\\site-packages\\pandas\\core\\algorithms.py:581\u001b[0m, in \u001b[0;36mfactorize_array\u001b[1;34m(values, use_na_sentinel, size_hint, na_value, mask)\u001b[0m\n\u001b[0;32m    578\u001b[0m hash_klass, values \u001b[39m=\u001b[39m _get_hashtable_algo(values)\n\u001b[0;32m    580\u001b[0m table \u001b[39m=\u001b[39m hash_klass(size_hint \u001b[39mor\u001b[39;00m \u001b[39mlen\u001b[39m(values))\n\u001b[1;32m--> 581\u001b[0m uniques, codes \u001b[39m=\u001b[39m table\u001b[39m.\u001b[39;49mfactorize(\n\u001b[0;32m    582\u001b[0m     values,\n\u001b[0;32m    583\u001b[0m     na_sentinel\u001b[39m=\u001b[39;49m\u001b[39m-\u001b[39;49m\u001b[39m1\u001b[39;49m,\n\u001b[0;32m    584\u001b[0m     na_value\u001b[39m=\u001b[39;49mna_value,\n\u001b[0;32m    585\u001b[0m     mask\u001b[39m=\u001b[39;49mmask,\n\u001b[0;32m    586\u001b[0m     ignore_na\u001b[39m=\u001b[39;49muse_na_sentinel,\n\u001b[0;32m    587\u001b[0m )\n\u001b[0;32m    589\u001b[0m \u001b[39m# re-cast e.g. i8->dt64/td64, uint8->bool\u001b[39;00m\n\u001b[0;32m    590\u001b[0m uniques \u001b[39m=\u001b[39m _reconstruct_data(uniques, original\u001b[39m.\u001b[39mdtype, original)\n",
      "File \u001b[1;32mpandas\\_libs\\hashtable_class_helper.pxi:7280\u001b[0m, in \u001b[0;36mpandas._libs.hashtable.PyObjectHashTable.factorize\u001b[1;34m()\u001b[0m\n",
      "File \u001b[1;32mpandas\\_libs\\hashtable_class_helper.pxi:7194\u001b[0m, in \u001b[0;36mpandas._libs.hashtable.PyObjectHashTable._unique\u001b[1;34m()\u001b[0m\n",
      "\u001b[1;31mTypeError\u001b[0m: unhashable type: 'list'"
     ]
    }
   ],
   "source": [
    "user_items.duplicated().sum()"
   ]
  },
  {
   "cell_type": "code",
   "execution_count": 15,
   "metadata": {},
   "outputs": [
    {
     "ename": "TypeError",
     "evalue": "unhashable type: 'list'",
     "output_type": "error",
     "traceback": [
      "\u001b[1;31m---------------------------------------------------------------------------\u001b[0m",
      "\u001b[1;31mTypeError\u001b[0m                                 Traceback (most recent call last)",
      "\u001b[1;32mc:\\Users\\Javi Dichiachio\\Desktop\\Data Science Henry\\LABS\\PI_01\\ETL.ipynb Cell 118\u001b[0m line \u001b[0;36m1\n\u001b[1;32m----> <a href='vscode-notebook-cell:/c%3A/Users/Javi%20Dichiachio/Desktop/Data%20Science%20Henry/LABS/PI_01/ETL.ipynb#Y221sZmlsZQ%3D%3D?line=0'>1</a>\u001b[0m user_items[user_items\u001b[39m.\u001b[39;49mduplicated()]\u001b[39m.\u001b[39mhead()\n",
      "File \u001b[1;32mc:\\Users\\Javi Dichiachio\\AppData\\Local\\Programs\\Python\\Python311\\Lib\\site-packages\\pandas\\core\\frame.py:6662\u001b[0m, in \u001b[0;36mDataFrame.duplicated\u001b[1;34m(self, subset, keep)\u001b[0m\n\u001b[0;32m   6660\u001b[0m \u001b[39melse\u001b[39;00m:\n\u001b[0;32m   6661\u001b[0m     vals \u001b[39m=\u001b[39m (col\u001b[39m.\u001b[39mvalues \u001b[39mfor\u001b[39;00m name, col \u001b[39min\u001b[39;00m \u001b[39mself\u001b[39m\u001b[39m.\u001b[39mitems() \u001b[39mif\u001b[39;00m name \u001b[39min\u001b[39;00m subset)\n\u001b[1;32m-> 6662\u001b[0m     labels, shape \u001b[39m=\u001b[39m \u001b[39mmap\u001b[39m(\u001b[39mlist\u001b[39m, \u001b[39mzip\u001b[39;49m(\u001b[39m*\u001b[39;49m\u001b[39mmap\u001b[39;49m(f, vals)))\n\u001b[0;32m   6664\u001b[0m     ids \u001b[39m=\u001b[39m get_group_index(\n\u001b[0;32m   6665\u001b[0m         labels,\n\u001b[0;32m   6666\u001b[0m         \u001b[39m# error: Argument 1 to \"tuple\" has incompatible type \"List[_T]\";\u001b[39;00m\n\u001b[1;32m   (...)\u001b[0m\n\u001b[0;32m   6670\u001b[0m         xnull\u001b[39m=\u001b[39m\u001b[39mFalse\u001b[39;00m,\n\u001b[0;32m   6671\u001b[0m     )\n\u001b[0;32m   6672\u001b[0m     result \u001b[39m=\u001b[39m \u001b[39mself\u001b[39m\u001b[39m.\u001b[39m_constructor_sliced(duplicated(ids, keep), index\u001b[39m=\u001b[39m\u001b[39mself\u001b[39m\u001b[39m.\u001b[39mindex)\n",
      "File \u001b[1;32mc:\\Users\\Javi Dichiachio\\AppData\\Local\\Programs\\Python\\Python311\\Lib\\site-packages\\pandas\\core\\frame.py:6630\u001b[0m, in \u001b[0;36mDataFrame.duplicated.<locals>.f\u001b[1;34m(vals)\u001b[0m\n\u001b[0;32m   6629\u001b[0m \u001b[39mdef\u001b[39;00m \u001b[39mf\u001b[39m(vals) \u001b[39m-\u001b[39m\u001b[39m>\u001b[39m \u001b[39mtuple\u001b[39m[np\u001b[39m.\u001b[39mndarray, \u001b[39mint\u001b[39m]:\n\u001b[1;32m-> 6630\u001b[0m     labels, shape \u001b[39m=\u001b[39m algorithms\u001b[39m.\u001b[39;49mfactorize(vals, size_hint\u001b[39m=\u001b[39;49m\u001b[39mlen\u001b[39;49m(\u001b[39mself\u001b[39;49m))\n\u001b[0;32m   6631\u001b[0m     \u001b[39mreturn\u001b[39;00m labels\u001b[39m.\u001b[39mastype(\u001b[39m\"\u001b[39m\u001b[39mi8\u001b[39m\u001b[39m\"\u001b[39m, copy\u001b[39m=\u001b[39m\u001b[39mFalse\u001b[39;00m), \u001b[39mlen\u001b[39m(shape)\n",
      "File \u001b[1;32mc:\\Users\\Javi Dichiachio\\AppData\\Local\\Programs\\Python\\Python311\\Lib\\site-packages\\pandas\\core\\algorithms.py:780\u001b[0m, in \u001b[0;36mfactorize\u001b[1;34m(values, sort, use_na_sentinel, size_hint)\u001b[0m\n\u001b[0;32m    777\u001b[0m             \u001b[39m# Don't modify (potentially user-provided) array\u001b[39;00m\n\u001b[0;32m    778\u001b[0m             values \u001b[39m=\u001b[39m np\u001b[39m.\u001b[39mwhere(null_mask, na_value, values)\n\u001b[1;32m--> 780\u001b[0m     codes, uniques \u001b[39m=\u001b[39m factorize_array(\n\u001b[0;32m    781\u001b[0m         values,\n\u001b[0;32m    782\u001b[0m         use_na_sentinel\u001b[39m=\u001b[39;49muse_na_sentinel,\n\u001b[0;32m    783\u001b[0m         size_hint\u001b[39m=\u001b[39;49msize_hint,\n\u001b[0;32m    784\u001b[0m     )\n\u001b[0;32m    786\u001b[0m \u001b[39mif\u001b[39;00m sort \u001b[39mand\u001b[39;00m \u001b[39mlen\u001b[39m(uniques) \u001b[39m>\u001b[39m \u001b[39m0\u001b[39m:\n\u001b[0;32m    787\u001b[0m     uniques, codes \u001b[39m=\u001b[39m safe_sort(\n\u001b[0;32m    788\u001b[0m         uniques,\n\u001b[0;32m    789\u001b[0m         codes,\n\u001b[1;32m   (...)\u001b[0m\n\u001b[0;32m    792\u001b[0m         verify\u001b[39m=\u001b[39m\u001b[39mFalse\u001b[39;00m,\n\u001b[0;32m    793\u001b[0m     )\n",
      "File \u001b[1;32mc:\\Users\\Javi Dichiachio\\AppData\\Local\\Programs\\Python\\Python311\\Lib\\site-packages\\pandas\\core\\algorithms.py:581\u001b[0m, in \u001b[0;36mfactorize_array\u001b[1;34m(values, use_na_sentinel, size_hint, na_value, mask)\u001b[0m\n\u001b[0;32m    578\u001b[0m hash_klass, values \u001b[39m=\u001b[39m _get_hashtable_algo(values)\n\u001b[0;32m    580\u001b[0m table \u001b[39m=\u001b[39m hash_klass(size_hint \u001b[39mor\u001b[39;00m \u001b[39mlen\u001b[39m(values))\n\u001b[1;32m--> 581\u001b[0m uniques, codes \u001b[39m=\u001b[39m table\u001b[39m.\u001b[39;49mfactorize(\n\u001b[0;32m    582\u001b[0m     values,\n\u001b[0;32m    583\u001b[0m     na_sentinel\u001b[39m=\u001b[39;49m\u001b[39m-\u001b[39;49m\u001b[39m1\u001b[39;49m,\n\u001b[0;32m    584\u001b[0m     na_value\u001b[39m=\u001b[39;49mna_value,\n\u001b[0;32m    585\u001b[0m     mask\u001b[39m=\u001b[39;49mmask,\n\u001b[0;32m    586\u001b[0m     ignore_na\u001b[39m=\u001b[39;49muse_na_sentinel,\n\u001b[0;32m    587\u001b[0m )\n\u001b[0;32m    589\u001b[0m \u001b[39m# re-cast e.g. i8->dt64/td64, uint8->bool\u001b[39;00m\n\u001b[0;32m    590\u001b[0m uniques \u001b[39m=\u001b[39m _reconstruct_data(uniques, original\u001b[39m.\u001b[39mdtype, original)\n",
      "File \u001b[1;32mpandas\\_libs\\hashtable_class_helper.pxi:7280\u001b[0m, in \u001b[0;36mpandas._libs.hashtable.PyObjectHashTable.factorize\u001b[1;34m()\u001b[0m\n",
      "File \u001b[1;32mpandas\\_libs\\hashtable_class_helper.pxi:7194\u001b[0m, in \u001b[0;36mpandas._libs.hashtable.PyObjectHashTable._unique\u001b[1;34m()\u001b[0m\n",
      "\u001b[1;31mTypeError\u001b[0m: unhashable type: 'list'"
     ]
    }
   ],
   "source": [
    "user_items[user_items.duplicated()].head()"
   ]
  },
  {
   "cell_type": "code",
   "execution_count": null,
   "metadata": {},
   "outputs": [],
   "source": [
    "# Se eliminan los valores duplicados:\n",
    "user_items = user_items.drop_duplicates().reset_index()"
   ]
  },
  {
   "cell_type": "code",
   "execution_count": null,
   "metadata": {},
   "outputs": [
    {
     "name": "stdout",
     "output_type": "stream",
     "text": [
      "<class 'pandas.core.frame.DataFrame'>\n",
      "RangeIndex: 5094092 entries, 0 to 5094091\n",
      "Data columns (total 6 columns):\n",
      " #   Column            Dtype  \n",
      "---  ------            -----  \n",
      " 0   index             int64  \n",
      " 1   user_id           object \n",
      " 2   items_count       int64  \n",
      " 3   item_id           object \n",
      " 4   item_name         object \n",
      " 5   playtime_forever  float64\n",
      "dtypes: float64(1), int64(2), object(3)\n",
      "memory usage: 233.2+ MB\n"
     ]
    }
   ],
   "source": [
    "user_items.info()"
   ]
  },
  {
   "cell_type": "code",
   "execution_count": null,
   "metadata": {},
   "outputs": [],
   "source": [
    "# Se cambia el formato de la columna \"user_id\"\n",
    "user_items[\"user_id\"] = user_items[\"user_id\"].astype(str)"
   ]
  },
  {
   "cell_type": "markdown",
   "metadata": {},
   "source": [
    "Por último, se exporta el DataFrame a un archivo parquet:"
   ]
  },
  {
   "cell_type": "code",
   "execution_count": null,
   "metadata": {},
   "outputs": [],
   "source": [
    "#user_items.to_csv('user_items.csv', index=False)"
   ]
  },
  {
   "cell_type": "code",
   "execution_count": null,
   "metadata": {},
   "outputs": [],
   "source": [
    "#user_items.to_parquet('user_items_extended.parquet', engine=\"pyarrow\")"
   ]
  },
  {
   "cell_type": "code",
   "execution_count": 18,
   "metadata": {},
   "outputs": [],
   "source": [
    "user_items.to_parquet('user_items.parquet', engine=\"pyarrow\")"
   ]
  },
  {
   "cell_type": "code",
   "execution_count": null,
   "metadata": {},
   "outputs": [],
   "source": []
  }
 ],
 "metadata": {
  "kernelspec": {
   "display_name": "Python 3",
   "language": "python",
   "name": "python3"
  },
  "language_info": {
   "codemirror_mode": {
    "name": "ipython",
    "version": 3
   },
   "file_extension": ".py",
   "mimetype": "text/x-python",
   "name": "python",
   "nbconvert_exporter": "python",
   "pygments_lexer": "ipython3",
   "version": "3.11.4"
  }
 },
 "nbformat": 4,
 "nbformat_minor": 2
}
