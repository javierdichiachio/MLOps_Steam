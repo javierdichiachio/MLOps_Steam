{
 "cells": [
  {
   "cell_type": "code",
   "execution_count": 4,
   "metadata": {},
   "outputs": [],
   "source": [
    "import pandas as pd"
   ]
  },
  {
   "cell_type": "code",
   "execution_count": 46,
   "metadata": {},
   "outputs": [],
   "source": [
    "df_games = pd.read_parquet('steam_games.parquet')\n",
    "df_reviews = pd.read_parquet('user_reviews.parquet')\n",
    "df_items = pd.read_parquet('user_items_extended.parquet')\n",
    "df_rev_games = pd.merge(df_reviews,df_games, on = \"item_id\", how=\"inner\")\n",
    "df_items_games = pd.merge(df_items,df_games, on = \"item_id\", how=\"inner\")"
   ]
  },
  {
   "cell_type": "code",
   "execution_count": 32,
   "metadata": {},
   "outputs": [],
   "source": [
    "df_rev_games[\"posted_year\"] = df_rev_games[\"posted_year\"].astype(int)"
   ]
  },
  {
   "cell_type": "code",
   "execution_count": 14,
   "metadata": {},
   "outputs": [
    {
     "data": {
      "text/plain": [
       "dtype('int64')"
      ]
     },
     "execution_count": 14,
     "metadata": {},
     "output_type": "execute_result"
    }
   ],
   "source": [
    "df_rev_games[\"posted_year\"].dtypes"
   ]
  },
  {
   "cell_type": "code",
   "execution_count": null,
   "metadata": {},
   "outputs": [],
   "source": [
    "%memit lista_primos(1000)"
   ]
  },
  {
   "cell_type": "markdown",
   "metadata": {},
   "source": [
    "## developer()"
   ]
  },
  {
   "cell_type": "code",
   "execution_count": 105,
   "metadata": {},
   "outputs": [],
   "source": [
    "def developer(desarrollador):\n",
    "    '''Devuelve la cantidad de items y porcentaje de contenido Free por año según\n",
    "    la empresa desarrolladora\n",
    "    \n",
    "    Ejemplo de retorno:\n",
    "\n",
    "| Año  | Cantidad de Items | Contenido Free  |\n",
    "|------|-------------------|------------------|\n",
    "| 2023 | 50                | 27%              |\n",
    "| 2022 | 45                | 25%              |\n",
    "| xxxx | xx                | xx%              |\n",
    "    '''\n",
    "    # Si el desarrollador no se encuentra en los dataframes:\n",
    "    if desarrollador not in df_games['developer'].values:\n",
    "        \n",
    "        return f\"ERROR: El desarrollador {desarrollador} no existe en la base de datos.\"   # se imprime mensaje de error\n",
    "    \n",
    "    # Si el desarrollador se encuentra en la base de datos:\n",
    "    else:\n",
    "        # Se filtra la tabla de juegos en funcion a las columnas que vamos a utilizar\n",
    "        df = df_games[[\"item_id\", \"price\",\"developer\", \"release_year\"]]\n",
    "        \n",
    "        # Se filtra en el df el desarrollador ingresado\n",
    "        df_developer = df[df[\"developer\"] == desarrollador]\n",
    "        \n",
    "        # Se obtienen la cantidad de items totales por año:\n",
    "        items_year = df_developer.groupby(\"release_year\")[\"item_id\"].count()  \n",
    "\n",
    "        # Se filtra el df del desarrolladorpara aquellos juegos gratuitos (precio cero):\n",
    "        df_dev_free = df_developer[df_developer[\"price\"] == 0] \n",
    "\n",
    "        # Se obtiene la cantidad de items gratuitos por años\n",
    "        free_items = df_dev_free.groupby(\"release_year\")[\"price\"].count() #cantidad de gratis por año \n",
    "\n",
    "        # Se calcula el porcentaje de contenido gratuito por año\n",
    "        free_proportion = round((free_items / items_year) * 100, 2)  \n",
    "\n",
    "        # Se asigna nombre a las series para poder unirlas en un dataframe:\n",
    "        items_year.name = \"Cantidad de Items\"\n",
    "        free_proportion.name = \"Contenido Free\"\n",
    "        \n",
    "        # Se unen las series en un nuevo df y se resetea index_\n",
    "        df1 = pd.merge(items_year, free_proportion, on = \"release_year\").reset_index()\n",
    "        \n",
    "        # Se reemplazan los valores nulos del Dataframe por cero:\n",
    "        df1 = df1.fillna(0)\n",
    "        \n",
    "        # Se renombra la columna \"release_year\":\n",
    "        df1 = df1.rename(columns={\"release_year\" : \"Año\"})\n",
    "\n",
    "        # Se da formato a la columna de contenido free:\n",
    "        df1[\"Contenido Free\"] = df1[\"Contenido Free\"].apply(lambda x: f\"{x}%\")\n",
    "\n",
    "        # Se convierte el df en diccionario\n",
    "        diccionario = df1.to_dict(orient=\"records\")     \n",
    "\n",
    "        return diccionario"
   ]
  },
  {
   "cell_type": "code",
   "execution_count": 107,
   "metadata": {},
   "outputs": [
    {
     "data": {
      "text/html": [
       "<div>\n",
       "<style scoped>\n",
       "    .dataframe tbody tr th:only-of-type {\n",
       "        vertical-align: middle;\n",
       "    }\n",
       "\n",
       "    .dataframe tbody tr th {\n",
       "        vertical-align: top;\n",
       "    }\n",
       "\n",
       "    .dataframe thead th {\n",
       "        text-align: right;\n",
       "    }\n",
       "</style>\n",
       "<table border=\"1\" class=\"dataframe\">\n",
       "  <thead>\n",
       "    <tr style=\"text-align: right;\">\n",
       "      <th></th>\n",
       "      <th>Año</th>\n",
       "      <th>Cantidad de Items</th>\n",
       "      <th>Contenido Free</th>\n",
       "    </tr>\n",
       "  </thead>\n",
       "  <tbody>\n",
       "    <tr>\n",
       "      <th>0</th>\n",
       "      <td>1998</td>\n",
       "      <td>1</td>\n",
       "      <td>0.0%</td>\n",
       "    </tr>\n",
       "    <tr>\n",
       "      <th>1</th>\n",
       "      <td>1999</td>\n",
       "      <td>1</td>\n",
       "      <td>0.0%</td>\n",
       "    </tr>\n",
       "    <tr>\n",
       "      <th>2</th>\n",
       "      <td>2000</td>\n",
       "      <td>2</td>\n",
       "      <td>0.0%</td>\n",
       "    </tr>\n",
       "    <tr>\n",
       "      <th>3</th>\n",
       "      <td>2001</td>\n",
       "      <td>1</td>\n",
       "      <td>0.0%</td>\n",
       "    </tr>\n",
       "    <tr>\n",
       "      <th>4</th>\n",
       "      <td>2003</td>\n",
       "      <td>1</td>\n",
       "      <td>0.0%</td>\n",
       "    </tr>\n",
       "  </tbody>\n",
       "</table>\n",
       "</div>"
      ],
      "text/plain": [
       "    Año  Cantidad de Items Contenido Free\n",
       "0  1998                  1           0.0%\n",
       "1  1999                  1           0.0%\n",
       "2  2000                  2           0.0%\n",
       "3  2001                  1           0.0%\n",
       "4  2003                  1           0.0%"
      ]
     },
     "execution_count": 107,
     "metadata": {},
     "output_type": "execute_result"
    }
   ],
   "source": [
    "prueba = developer(\"Valve\")\n",
    "\n",
    "df_prueba = pd.DataFrame(prueba)\n",
    "df_prueba.head()"
   ]
  },
  {
   "cell_type": "markdown",
   "metadata": {},
   "source": [
    "## userdata()"
   ]
  },
  {
   "cell_type": "code",
   "execution_count": 157,
   "metadata": {},
   "outputs": [],
   "source": [
    "def userdata(user_id):\n",
    "    '''Devuelve la cantidad de dinero gastado por el usuario ingresado, el porcentaje de recomendación sobre\n",
    "    las reviews realizadas y la cantidad de items\n",
    "\n",
    "    Ejemplo de retorno: {\"Usuario X\" : us213ndjss09sdf, \"Dinero gastado\": 200 USD, \"% de recomendación\": 20%, \n",
    "    \"cantidad de items\": 5}\n",
    "    '''\n",
    "    \n",
    "    # Si el user_id no se encuentra en los dataframes:\n",
    "    if user_id not in df_rev_games['user_id'].values:\n",
    "        \n",
    "        return f\"ERROR: El user_id {user_id} no existe en la base de datos.\"   # se imprime mensaje de error\n",
    "    \n",
    "    # Si el user_id no se encuentra en los dataframes:\n",
    "    else:\n",
    "        # Se filtran las columnas del dataset a utilizar\n",
    "        df_merged = df_rev_games[['user_id','item_id','price', 'recommend']]\n",
    "\n",
    "        # Se filtran los datos en funcion al usuario especificado\n",
    "        df_merged = df_merged[df_rev_games['user_id'] == user_id]\n",
    "\n",
    "        # Se calcula la cantidad de dinero gastado por el usuario\n",
    "        dinero_gastado = round(df_merged['price'].sum(), 2)\n",
    "\n",
    "        # Se calcula la cantidad de recomendaciones del usuario\n",
    "        recomendaciones = df_merged['recommend'].sum()\n",
    "\n",
    "        # Se calcula el total de reviews del usuario\n",
    "        total_reviews = df_merged.shape[0]\n",
    "\n",
    "        # Se calcula el porcentaje de recomendaciones sobre el total de reviews   \n",
    "        porcentaje_recomendacion = round(recomendaciones / total_reviews * 100, 0)\n",
    "\n",
    "        # Se calcula la cantidad de items por usuario\n",
    "        cantidad_de_items = df_merged['item_id'].nunique()\n",
    "\n",
    "        # Crear un diccionario con los resultados\n",
    "        dicc_rdos = {\n",
    "        \"Usuario\": user_id,\n",
    "        \"Dinero gastado\": f'{dinero_gastado} USD',\n",
    "        \"% de recomendación\": f'{porcentaje_recomendacion}%',\n",
    "        'Cantidad de items': cantidad_de_items\n",
    "        }\n",
    "\n",
    "        return dicc_rdos"
   ]
  },
  {
   "cell_type": "code",
   "execution_count": 158,
   "metadata": {},
   "outputs": [
    {
     "data": {
      "text/plain": [
       "'El user_id marian no existe en la base de datos'"
      ]
     },
     "execution_count": 158,
     "metadata": {},
     "output_type": "execute_result"
    }
   ],
   "source": [
    "userdata(\"marian\")"
   ]
  },
  {
   "cell_type": "markdown",
   "metadata": {},
   "source": [
    "## UserforGenre()"
   ]
  },
  {
   "cell_type": "code",
   "execution_count": 25,
   "metadata": {},
   "outputs": [],
   "source": [
    "def UserForGenre(genero):\n",
    "    '''Devuelve el usuario que acumula más horas jugadas para el género dado y una lista de acumulación de horas\n",
    "    por año\n",
    "    \n",
    "    Ejemplo de retorno: {\"Usuario con más horas jugadas para Género X\" : us213ndjss09sdf,\n",
    "\t\t\t     \"Horas jugadas\":[{Año: 2013, Horas: 203}, {Año: 2012, Horas: 100}, {Año: 2011, Horas: 23}]}\n",
    "    '''\n",
    "    # Si el genero no se encuentra en los dataframes:\n",
    "    if genero not in df_games.columns:\n",
    "        \n",
    "        return f\"ERROR: El género {genero} no existe en la base de datos.\"   # se imprime mensaje de error    \n",
    "    \n",
    "    # Si el genero se encuentra en los dataframes:\n",
    "    else:\n",
    "    # Si el genero se encuentra en los dataframes:\n",
    "        # See filtra el dataframe por todos aquellos juegos catalogados dentro del género seleccionado\n",
    "        df_genre = df_items_games[df_items_games[genero] == 1]\n",
    "\n",
    "        # Se seleccionan las columnas que se van a mantener\n",
    "        df_genre = df_genre[[\"user_id\", \"playtime_forever\", \"release_year\"]]\n",
    "\n",
    "        # Se agrupa el df por user_id sumando la cantidad de horas jugadas y buscando el usuario con el valor máximo\n",
    "        user_max = df_genre.groupby(\"user_id\")[\"playtime_forever\"].sum().idxmax() \n",
    "        \n",
    "        # Se filtra la información del usuario con más horas jugadas\n",
    "        df_genre = df_genre[df_genre[\"user_id\"] == user_max] \n",
    "\n",
    "        # Se agrupa la cantidad de horas jugadas por año por el usuario\n",
    "        hours_year = df_genre.groupby(\"release_year\")[\"playtime_forever\"].sum()\n",
    "\n",
    "        # Se agrupan las horas en un diccionario de valores\n",
    "        hours_dicc = hours_year.to_dict() \n",
    "\n",
    "        # Se crea un diccionario vacío que almacenará los valores formateados\n",
    "        hours_dicc1 = {}\n",
    "                \n",
    "        # Se itera sobra cada uno de los pares clave-valor del diccionario original\n",
    "        for clave, valor in hours_dicc.items(): \n",
    "            key_format = f'Año: {int(clave)}'           # se da formato al año\n",
    "            value_format = f'Horas: {int(valor)}'       # se da formato a la cantidad de horas jugadas\n",
    "            hours_dicc1[key_format] = value_format      # se asignan los valores al diccionario creado anteriormente\n",
    "            \n",
    "        # Se crea la clave a utilizar en el diccionario de retorno\n",
    "        clave_dicc = f'Usuario con más horas jugadas para Género {genero}'\n",
    "        \n",
    "        # Se retornan los valores en un diccionario: \n",
    "        return {clave_dicc : user_max, \"Horas jugadas\": hours_dicc1}         "
   ]
  },
  {
   "cell_type": "code",
   "execution_count": 29,
   "metadata": {},
   "outputs": [
    {
     "data": {
      "text/plain": [
       "{'Usuario con más horas jugadas para Género Action': 'Sp3ctre',\n",
       " 'Horas jugadas': {'Año: 1993': 'Horas: 0',\n",
       "  'Año: 1995': 'Horas: 217',\n",
       "  'Año: 1996': 'Horas: 0',\n",
       "  'Año: 1998': 'Horas: 0',\n",
       "  'Año: 1999': 'Horas: 44',\n",
       "  'Año: 2000': 'Horas: 70644',\n",
       "  'Año: 2001': 'Horas: 13',\n",
       "  'Año: 2002': 'Horas: 238',\n",
       "  'Año: 2003': 'Horas: 7673',\n",
       "  'Año: 2004': 'Horas: 127411',\n",
       "  'Año: 2005': 'Horas: 21339',\n",
       "  'Año: 2006': 'Horas: 896',\n",
       "  'Año: 2007': 'Horas: 112784',\n",
       "  'Año: 2008': 'Horas: 224',\n",
       "  'Año: 2009': 'Horas: 108326',\n",
       "  'Año: 2010': 'Horas: 78083',\n",
       "  'Año: 2011': 'Horas: 93757',\n",
       "  'Año: 2012': 'Horas: 378296',\n",
       "  'Año: 2013': 'Horas: 120306',\n",
       "  'Año: 2014': 'Horas: 130452',\n",
       "  'Año: 2015': 'Horas: 312238',\n",
       "  'Año: 2016': 'Horas: 29298',\n",
       "  'Año: 2017': 'Horas: 43327'}}"
      ]
     },
     "execution_count": 29,
     "metadata": {},
     "output_type": "execute_result"
    }
   ],
   "source": [
    "UserForGenre(\"Action\")"
   ]
  },
  {
   "cell_type": "markdown",
   "metadata": {},
   "source": [
    "## best_developer_year()"
   ]
  },
  {
   "cell_type": "code",
   "execution_count": 40,
   "metadata": {},
   "outputs": [],
   "source": [
    "def best_developer_year(año):\n",
    "    '''\n",
    "    Devuelve el top 3 de desarrolladores con juegos más recomendados por usuarios para el año dado.\n",
    "    (reviews.recommend = True y comentarios positivos)\n",
    "  \n",
    "    Ejemplo de retorno: [{\"Puesto 1\" : X}, {\"Puesto 2\" : Y},{\"Puesto 3\" : Z}]\n",
    "    '''\n",
    "    #Convertimos a entero\n",
    "    año = int(año)\n",
    "    \n",
    "    # Se filtran los datos por el año ingresado:\n",
    "    df_filter = df_reviews[df_reviews['posted_year'] == año]\n",
    "    #df_games = pd.read_parquet('steam_games.parquet',columns=[['item_id', 'app_name','developer']])\n",
    "    \n",
    "    # Se seleccionan las columnas a utilizar en el DataFrame\n",
    "    df_year = pd.merge(df_filter[['item_id','posted_year','recommend', 'sentiment_analysis']], df_games[['item_id','app_name','developer']], on = \"item_id\", how = 'inner')\n",
    "    \n",
    "    # Se filtran las recomendaciones de usuarios y se agrupan por desarrollador:\n",
    "    df_year = df_year[(df_year['recommend'] == 1) & (df_year['sentiment_analysis'] == 2)].groupby('developer')[\"app_name\"].count().reset_index()\n",
    "\n",
    "    # Se ordenan las recomendaciones por orden descendente, se seleccionan las primeras 3 y se convierten a lista:\n",
    "    best_developers = df_year.sort_values(\"app_name\",ascending=False).head(3)[\"developer\"].to_list()\n",
    "\n",
    "    # Se devuelven los resultados en una lista\n",
    "    return {\"Puesto 1\" : best_developers[0], \"Puesto 2\" : best_developers[1], \"Puesto 3\" : best_developers[2]}"
   ]
  },
  {
   "cell_type": "code",
   "execution_count": 41,
   "metadata": {},
   "outputs": [
    {
     "data": {
      "text/plain": [
       "{'Puesto 1': 'Smartly Dressed Games',\n",
       " 'Puesto 2': 'Studio Wildcard,Instinct Games,Efecto Studios,Virtual Basement LLC',\n",
       " 'Puesto 3': 'Blue Mammoth Games'}"
      ]
     },
     "execution_count": 41,
     "metadata": {},
     "output_type": "execute_result"
    }
   ],
   "source": [
    "best_developer_year(2017)"
   ]
  },
  {
   "cell_type": "code",
   "execution_count": 34,
   "metadata": {},
   "outputs": [
    {
     "data": {
      "text/plain": [
       "{'Puesto 1': 'Smartly Dressed Games',\n",
       " 'Puesto 2': 'Studio Wildcard,Instinct Games,Efecto Studios,Virtual Basement LLC',\n",
       " 'Puesto 3': 'Blue Mammoth Games'}"
      ]
     },
     "execution_count": 34,
     "metadata": {},
     "output_type": "execute_result"
    }
   ],
   "source": [
    "#Convertimos a entero\n",
    "año = 2017\n",
    "\n",
    "# Se filtran los datos por el año ingresado:\n",
    "df_filter = df_reviews[df_reviews['posted_year'] == año]\n",
    "#df_games = pd.read_parquet('steam_games.parquet',columns=[['item_id', 'app_name','developer']])\n",
    "\n",
    "# Se seleccionan las columnas a utilizar en el DataFrame\n",
    "df_year = pd.merge(df_filter[['item_id','posted_year','recommend', 'sentiment_analysis']], df_games[['item_id','app_name','developer']], on = \"item_id\", how = 'inner')\n",
    "\n",
    "# Se filtran las recomendaciones de usuarios y se agrupan por desarrollador:\n",
    "df_year = df_year[(df_year['recommend'] == 1) & (df_year['sentiment_analysis'] == 2)].groupby('developer')[\"app_name\"].count().reset_index()\n",
    "\n",
    "# Se ordenan las recomendaciones por orden descendente, se seleccionan las primeras 3 y se convierten a lista:\n",
    "best_developers = df_year.sort_values(\"app_name\", ascending=False).head(3)[\"developer\"].to_list()\n",
    "\n",
    "# Se devuelven los resultados en una lista\n",
    "resultado = {\"Puesto 1\" : best_developers[0], \"Puesto 2\" : best_developers[1], \"Puesto 3\" : best_developers[2]}\n",
    "resultado"
   ]
  },
  {
   "cell_type": "code",
   "execution_count": 45,
   "metadata": {},
   "outputs": [
    {
     "name": "stdout",
     "output_type": "stream",
     "text": [
      "<class 'pandas.core.frame.DataFrame'>\n",
      "RangeIndex: 48339 entries, 0 to 48338\n",
      "Data columns (total 5 columns):\n",
      " #   Column              Non-Null Count  Dtype \n",
      "---  ------              --------------  ----- \n",
      " 0   user_id             48339 non-null  object\n",
      " 1   item_id             48339 non-null  int64 \n",
      " 2   recommend           48339 non-null  int64 \n",
      " 3   posted_year         48339 non-null  int64 \n",
      " 4   sentiment_analysis  48339 non-null  int64 \n",
      "dtypes: int64(4), object(1)\n",
      "memory usage: 1.8+ MB\n"
     ]
    }
   ],
   "source": [
    "df_reviews.info()"
   ]
  },
  {
   "cell_type": "code",
   "execution_count": 35,
   "metadata": {},
   "outputs": [
    {
     "data": {
      "text/html": [
       "<div>\n",
       "<style scoped>\n",
       "    .dataframe tbody tr th:only-of-type {\n",
       "        vertical-align: middle;\n",
       "    }\n",
       "\n",
       "    .dataframe tbody tr th {\n",
       "        vertical-align: top;\n",
       "    }\n",
       "\n",
       "    .dataframe thead th {\n",
       "        text-align: right;\n",
       "    }\n",
       "</style>\n",
       "<table border=\"1\" class=\"dataframe\">\n",
       "  <thead>\n",
       "    <tr style=\"text-align: right;\">\n",
       "      <th></th>\n",
       "      <th>developer</th>\n",
       "      <th>app_name</th>\n",
       "    </tr>\n",
       "  </thead>\n",
       "  <tbody>\n",
       "    <tr>\n",
       "      <th>25</th>\n",
       "      <td>Wolfire Games</td>\n",
       "      <td>2</td>\n",
       "    </tr>\n",
       "    <tr>\n",
       "      <th>24</th>\n",
       "      <td>Trendy Entertainment</td>\n",
       "      <td>7</td>\n",
       "    </tr>\n",
       "    <tr>\n",
       "      <th>23</th>\n",
       "      <td>Targem Games</td>\n",
       "      <td>1</td>\n",
       "    </tr>\n",
       "  </tbody>\n",
       "</table>\n",
       "</div>"
      ],
      "text/plain": [
       "               developer  app_name\n",
       "25         Wolfire Games         2\n",
       "24  Trendy Entertainment         7\n",
       "23          Targem Games         1"
      ]
     },
     "execution_count": 35,
     "metadata": {},
     "output_type": "execute_result"
    }
   ],
   "source": [
    "df_year.sort_values(\"developer\", ascending=False).head(3)"
   ]
  },
  {
   "cell_type": "code",
   "execution_count": 36,
   "metadata": {},
   "outputs": [],
   "source": [
    "# Opcion 2:\n",
    "def validar_entero(year):\n",
    "    \"\"\" Valida que el año provisto sea entero \"\"\"\n",
    "\n",
    "    try:\n",
    "        return int(year)\n",
    "    except:\n",
    "        return False\n",
    "    \n",
    "def validar_anio(year):    \n",
    "    \"\"\" Valida que el año provisto esté dentro del dataset \"\"\"\n",
    "\n",
    "    min_year = int(df_rev_games['release_year'].min())\n",
    "    max_year = int(df_rev_games['posted_year'].max())\n",
    "\n",
    "    if min_year > int(year) or int(year) > max_year:\n",
    "        return min_year, max_year\n",
    "    return False\n",
    "\n",
    "def best_developer_year2(año):\n",
    "    '''\n",
    "    Devuelve el top 3 de desarrolladores con juegos más recomendados por usuarios para el año dado.\n",
    "    (reviews.recommend = True y comentarios positivos)\n",
    "  \n",
    "    Ejemplo de retorno: [{\"Puesto 1\" : X}, {\"Puesto 2\" : Y},{\"Puesto 3\" : Z}]\n",
    "    '''\n",
    "    \n",
    "    # Validamos que sea entero\n",
    "    if not validar_entero(año):\n",
    "        return {\"error\" : f\"{año} no es un número entero válido\"}\n",
    "    \n",
    "    #Convertimos a entero\n",
    "    año = int(año)\n",
    "\n",
    "    # Validamos el año esté dentro del rango\n",
    "    if result := validar_anio(año):\n",
    "        return {\"error\" : f\"El año de lanzamiento no forma parte del dataset. Por favor pruebe valores entre {result[0]} y {result[1]}\"}\n",
    "    \n",
    "    # Se seleccionan las columnas a utilizar\n",
    "    df_year = df_rev_games[['posted_year','app_name','recommend', 'sentiment_analysis', 'developer']]\n",
    "\n",
    "    # Se filtran los datos por el año ingresado:\n",
    "    df_year = df_year[df_year['posted_year'] == año]\n",
    "\n",
    "    # Se filtran las recomendaciones de usuarios:\n",
    "    df_year = df_year[(df_year['recommend'] == 1) & (df_year['sentiment_analysis'] == 2)]\n",
    "\n",
    "    # Se cuentan las recomendaciones para cada desarrollador\n",
    "    recomendaciones_developer = df_year.groupby('developer')[\"app_name\"].count()\n",
    "\n",
    "    # Se ordenan las recomendaciones por orden descendente, se seleccionan las primeras 3 y se convierten a lista:\n",
    "    best_developers = recomendaciones_developer.sort_values(ascending=False).head(3).index.to_list()\n",
    "\n",
    "    # Se devuelven los resultados en una lista\n",
    "    return {\"Puesto 1\" : best_developers[0], \"Puesto 2\" : best_developers[1], \"Puesto 3\" : best_developers[2]}"
   ]
  },
  {
   "cell_type": "markdown",
   "metadata": {},
   "source": [
    "## developer_reviews_analysis()"
   ]
  },
  {
   "cell_type": "code",
   "execution_count": 37,
   "metadata": {},
   "outputs": [],
   "source": [
    "def developer_reviews_analysis(desarrollador:str):\n",
    "    '''Devuelve un diccionario con el nombre del desarrollador como llave y una lista con la cantidad total de \n",
    "    reseñas positivas y negativas de usuarios\n",
    "    \n",
    "    Ejemplo de retorno: {'Valve' : [Negative = 182, Positive = 278]}\n",
    "    '''\n",
    "    # Si el desarrollador no se encuentra en los dataframes:\n",
    "    if desarrollador not in df_games['developer'].values:\n",
    "        \n",
    "        return f\"ERROR: El desarrollador {desarrollador} no existe en la base de datos.\"    # se imprime mensaje de error\n",
    "    \n",
    "    # Si el desarrollador se encuentra en la base de datos:\n",
    "    else:\n",
    "        # Se filtran las columnas a utilizar y se eliminan duplicados\n",
    "        df_merged = df_rev_games[['developer','sentiment_analysis']]\n",
    "        \n",
    "        # Se filtran los datos por el developer ingresado\n",
    "        df_merged = df_merged[df_merged[\"developer\"] == desarrollador]\n",
    "\n",
    "        # Se obtienen la cantidad de reviews positivas y negativas\n",
    "        positive_reviews = df_merged[df_merged[\"sentiment_analysis\"] == 2].shape[0]\n",
    "        negative_reviews = df_merged[df_merged[\"sentiment_analysis\"] == 0].shape[0]\n",
    "        \n",
    "        # Se juntan los valores en un f-string\n",
    "        resumen_reviews = f\"[Negative = {negative_reviews}, Positive = {positive_reviews}]\"\n",
    "        \n",
    "        # Se almacenan los resultados en un diccionario\n",
    "        dicc = {desarrollador: resumen_reviews}\n",
    "\n",
    "        # Se devuelve un diccionario con los resultados obtenidos\n",
    "        return dicc "
   ]
  },
  {
   "cell_type": "code",
   "execution_count": 38,
   "metadata": {},
   "outputs": [
    {
     "data": {
      "text/plain": [
       "{'Valve': '[Negative = 1080, Positive = 5988]'}"
      ]
     },
     "execution_count": 38,
     "metadata": {},
     "output_type": "execute_result"
    }
   ],
   "source": [
    "developer_reviews_analysis(\"Valve\")"
   ]
  },
  {
   "cell_type": "code",
   "execution_count": null,
   "metadata": {},
   "outputs": [],
   "source": []
  },
  {
   "cell_type": "code",
   "execution_count": 39,
   "metadata": {},
   "outputs": [
    {
     "ename": "IndentationError",
     "evalue": "unexpected indent (3872366856.py, line 4)",
     "output_type": "error",
     "traceback": [
      "\u001b[1;36m  Cell \u001b[1;32mIn[39], line 4\u001b[1;36m\u001b[0m\n\u001b[1;33m    return {\"top_desarrolladore= 1\" : top_desarrolladores[0], \"top_desarrollador 2\" : top_desarrolladores[1], \"top_desarrollador 3\" : top_desarrolladores[2]}\u001b[0m\n\u001b[1;37m    ^\u001b[0m\n\u001b[1;31mIndentationError\u001b[0m\u001b[1;31m:\u001b[0m unexpected indent\n"
     ]
    }
   ],
   "source": [
    "top_desarrolladores = top_desarrolladores_recomendados(year)\n",
    "\n",
    "    # Devolver el resultado\n",
    "    return {\"top_desarrolladore= 1\" : top_desarrolladores[0], \"top_desarrollador 2\" : top_desarrolladores[1], \"top_desarrollador 3\" : top_desarrolladores[2]}"
   ]
  }
 ],
 "metadata": {
  "kernelspec": {
   "display_name": "Python 3",
   "language": "python",
   "name": "python3"
  },
  "language_info": {
   "codemirror_mode": {
    "name": "ipython",
    "version": 3
   },
   "file_extension": ".py",
   "mimetype": "text/x-python",
   "name": "python",
   "nbconvert_exporter": "python",
   "pygments_lexer": "ipython3",
   "version": "3.11.4"
  }
 },
 "nbformat": 4,
 "nbformat_minor": 2
}
